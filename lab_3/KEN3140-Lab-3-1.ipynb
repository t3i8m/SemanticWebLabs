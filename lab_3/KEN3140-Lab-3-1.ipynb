{
 "cells": [
  {
   "cell_type": "markdown",
   "id": "cf21ebb6-6b26-4f6a-a40a-d1448ec2c63f",
   "metadata": {},
   "source": [
    "# KEN3140 - Lab 3.1 \n",
    "## Defining OWL ontologies in Protege. Running the reasoner, inferring new information, and debugging inconsistencies. \n",
    "- Install Protege (if not already done) - https://protege.stanford.edu/software.php"
   ]
  },
  {
   "cell_type": "markdown",
   "id": "d2b51672-cc83-4e82-98b6-4fa7bae525c3",
   "metadata": {},
   "source": [
    "### Task 1: Creating some object properties for family relations (parentage)\n",
    "1. Open protege and create a new ontology\n",
    "2. Create an object property ```hasMother```\n",
    "3. Create a property ```isMotherOf``` and set ```hasMother``` as ```InverseOf: isMotherOf```\n",
    "4. Repeat for the property ```hasFather```;\n",
    "5. Create a new property ```hasParent```; also create inverse properties ```hasChild``` and ```ifParentOf```\n",
    "6. Make ```hasMother``` and ```hasFather``` sub-properties of ```hasParent```\n",
    "7. Run the reasoner and look at the property hierarchy."
   ]
  },
  {
   "cell_type": "markdown",
   "id": "b5773885-0a6f-487c-806e-72c6808ec5cb",
   "metadata": {},
   "source": [
    "### Task 2: Assert some facts about individuals (create the ABox)\n",
    "| **Person**                           | **hasFather**                                     | **hasMother**                                |\n",
    "|--------------------------------------|--------------------------------------------------|----------------------------------------------|\n",
    "| **Queen Elizabeth II**               | King George VI                                   | Queen Elizabeth The Queen Mother             |\n",
    "| **Princess Margaret Countess of Snowdon** | King George VI                             | Queen Elizabeth The Queen Mother             |\n",
    "| **Charles III**                      | Prince Philip Duke of Edinburgh                  | Queen Elizabeth II                          |\n",
    "| **Anne Princess Royal**             | Prince Philip Duke of Edinburgh                  | Queen Elizabeth II                          |\n",
    "| **William Prince of Wales**         | Charles III                                       | Diana Princess of Wales                    |\n",
    "| **Prince Harry Duke of Sussex**     | Charles III                                       | Diana Princess of Wales                    |\n",
    "| **Prince George of Wales**           | William Prince of Wales                          | Catherine Princess of Wales                |\n",
    "| **Princess Charlotte of Wales**      | William Prince of Wales                          | Catherine Princess of Wales                |\n"
   ]
  },
  {
   "cell_type": "markdown",
   "id": "a32cb930-3dc1-4ff5-bdbb-a534af505aa8",
   "metadata": {},
   "source": [
    "### Task 3: Describing Ancestors and Descendants\n",
    "1. Define a new object property ```hasRelation```. Set this as a *symmetric property*.\n",
    "2. Define a new object property ```hasAncestor```.\n",
    "3. Make ```hasAncestor``` a sub-property of ```hasRelation``` and a super-property of ```hasParent```. Set it as a *transitive property*.\n",
    "4. Create the inverse of ```hasAncestor``` as ```hasDescendant```. "
   ]
  },
  {
   "cell_type": "markdown",
   "id": "aed83296-63f7-4bea-a4cc-c90059bf0c2e",
   "metadata": {},
   "source": [
    "### Task 4: Run DL Queries\n",
    "1. Children of Queen Elizabeth II - ? (Tick under Query for - Instances)\n",
    "2. Descendants of King George VI - ? "
   ]
  },
  {
   "cell_type": "markdown",
   "id": "9292659e-ad92-4a9f-a770-f181d4eb65a5",
   "metadata": {},
   "source": [
    "### Task 5: Defining Grandparents and Great-grandparents --> OWL sub-property chains\n",
    "Use definition: ```ObjectProperty: hasGrandparent SubPropertyChain: hasParent o hasParent```  \n",
    "```\n",
    "ObjectProperty: hasGrandParent\n",
    "SubPropertyOf: hasAncestor\n",
    "SubPropertyChain: hasParent o hasParent\n",
    "SuperPropertyOf: hasGrandmother, hasGrandfather\n",
    "InverseOf: isGrandParentOf\n",
    "```\n",
    "```\n",
    "ObjectProperty: hasGrandFather\n",
    "SubPropertyChain: hasParent o hasFather\n",
    "```\n",
    "```\n",
    "ObjectProperty: hasGrandMother\n",
    "SubPropertyChain: hasParent o hasMother\n",
    "```\n",
    "\n",
    "1. Define object properties ```hasGrandparent```, ```hasGrandMother``` and ```hasGrandFather```, and the inverses\n",
    "2. Use the Superproperty Of (Chain) to define ```hasParent o hasParent```\n",
    "3. Run DL Query - ```hasGrandParent value King_George_VI```\n",
    "\n",
    "Similarly for great-grandparents. \n",
    "```\n",
    "ObjectProperty: hasGreatGrandParent\n",
    "SubPropertyChain: hasParent o hasParent o hasParent\n",
    "```\n"
   ]
  },
  {
   "cell_type": "markdown",
   "id": "c64ef298-2a3b-4dfc-8a4c-db82a0203fb1",
   "metadata": {},
   "source": [
    "Up until now, we have not defined any classes. We will now define the ```Person``` and the ```Gender``` class, and use these to also define *domain* and *range* for many of the properties defined earlier. "
   ]
  },
  {
   "cell_type": "markdown",
   "id": "d2776f8b-3c44-4bea-93ad-23c7854846ea",
   "metadata": {},
   "source": [
    "### Task 6: Define the `Person` and `Gender` classes. \n",
    "1. Create a class `Person`.\n",
    "2. Create another class `Gender`.\n",
    "3. Make `Person` and `Gender` disjoint.\n",
    "4. Create two subclasses of `Gender` - `Male` and `Female`. Make them disjoint.\n",
    "5. Set a complete class defintion for `Gender` as `Gender EquivalentTo Male or Female`.\n",
    "6. Create an object property, `hasGender` , with the domain `Person`, the range `Gender`. Set this as a *Functional* property.\n",
    "7. Put a restriction on the `Person` class stating that *each and every instance* of the class `Person` holds a `hasGender` property with an instance of the `Gender` class. Define `Person` as a subClass of `hasGender some Gender`. "
   ]
  },
  {
   "cell_type": "markdown",
   "id": "2cfd2180-1cca-4a4d-b240-028e23d024fa",
   "metadata": {},
   "source": [
    "The `Person` class is then defined as:  \n",
    "```\n",
    ":Person rdf:type owl:Class ;\n",
    "        rdfs:subClassOf [ rdf:type owl:Restriction ;\n",
    "                          owl:onProperty :hasGender ;\n",
    "                          owl:someValuesFrom :Gender\n",
    "                        ] .\n",
    "```\n",
    "And the `Gender` class as: \n",
    "```\n",
    ":Gender rdf:type owl:Class ;\n",
    "        owl:equivalentClass [ rdf:type owl:Class ;\n",
    "                              owl:unionOf ( :Female\n",
    "                                            :Male\n",
    "                                          )\n",
    "                            ] ;\n",
    "        owl:disjointWith :Person .\n",
    "```"
   ]
  },
  {
   "cell_type": "markdown",
   "id": "72b33f69-b41c-43f4-abc3-5da92b15a411",
   "metadata": {},
   "source": [
    "### Task 7: Define `Man` and `Woman` using the definitions for `Person` and `Gender` made earlier. \n",
    "1. Create a class `Man`\n",
    "2. Define it/make it equivalent to a person who is also a male - `Person and (hasGender some Male)`.\n",
    "3. Do the same for the class `Woman`. "
   ]
  },
  {
   "cell_type": "markdown",
   "id": "b0a4459b-8309-4d22-8252-a706efd1fa96",
   "metadata": {},
   "source": [
    "The class `Man` can now be seen to be defined as: \n",
    "```\n",
    ":Man rdf:type owl:Class ;\n",
    "     owl:equivalentClass [ owl:intersectionOf ( :Person\n",
    "                                                [ rdf:type owl:Restriction ;\n",
    "                                                  owl:onProperty :hasGender ;\n",
    "                                                  owl:someValuesFrom :Male\n",
    "                                                ]\n",
    "                                              ) ;\n",
    "                           rdf:type owl:Class\n",
    "                         ] ;\n",
    "     rdfs:subClassOf :Person .\n",
    "```"
   ]
  },
  {
   "cell_type": "markdown",
   "id": "31c8406e-f738-4243-a623-95dc79fb0438",
   "metadata": {},
   "source": [
    "### Task 8: Define `domain` and `range` for certain properties based on classes defined earlier \n",
    "1. Add the domain `Person` and the range `Woman` to the property `hasMother`.\n",
    "2. Similarly for `hasFather`, except the range should be `Man`.\n",
    "3. Give the property `hasParent` domain and range of `Person`\n",
    "\n",
    "Run the reasoner again. Check types for the various instances. For example, `Queen_Elizabeth_II` is inferred as a `Woman`. Write DL queries for `Person`, `Man` and `Woman` to see which instances have been inferred as which. For example, `Princess_Margaret_Countess_of_Snowdon` is inferred as a `Person` because *she* appears only on the left (as a subject) of `hasFather`/`hasMother`. "
   ]
  },
  {
   "cell_type": "markdown",
   "id": "9ea51535-aadb-431b-a63c-96cc2785d4f9",
   "metadata": {},
   "source": [
    "### Task 9: Inconsistencies \n",
    "1. Take an instance like `William_Prince_of_Wales` and make an object property assertion on `hasMother` for it, choosing the object as `King_George_VI`. Run the reasoner. What do you see? The reasoner returns that there is a logical inconsistency somewhere. Click on the *Explain* button to see the explanation.\n",
    "2. Now, go back to the definition of `hasGender` and remove the contraint on it to be `Functional`. Run the reasoner again. What happens? Go to the instance of (Individuals) `King_George_VI` and check the type description. Reinstate the `Functional` constraint, remove and incorrect assertion and run the reasoner. \n",
    "3. Next, define `hasSibling` property as:\n",
    "```\n",
    "ObjectProperty: hasSibling\n",
    "Characteristics: Symmetric, transitive\n",
    "SubPropertyChain: hasParent o isParentOf\n",
    "```\n",
    "Note: First define `isParentOf` to achieve this, as inverse of `hasParent`. \n",
    "\n",
    "2. Run the reasoner. Run DL query `hasSibling value Queen_Elizabeth_II`.\n",
    "3. Add the characteristic `Irreflexive` (object cannot hold the property with itself) to `hasSibling`. Run the reasoner again. What happens? "
   ]
  },
  {
   "cell_type": "code",
   "execution_count": null,
   "id": "6a775248-8179-4651-91d5-f5eb31e5fb40",
   "metadata": {},
   "outputs": [],
   "source": []
  },
  {
   "cell_type": "code",
   "execution_count": null,
   "id": "ef5184b1-7200-4677-a27a-d3854dc98057",
   "metadata": {},
   "outputs": [],
   "source": []
  }
 ],
 "metadata": {
  "kernelspec": {
   "display_name": "Python 3 (ipykernel)",
   "language": "python",
   "name": "python3"
  },
  "language_info": {
   "codemirror_mode": {
    "name": "ipython",
    "version": 3
   },
   "file_extension": ".py",
   "mimetype": "text/x-python",
   "name": "python",
   "nbconvert_exporter": "python",
   "pygments_lexer": "ipython3",
   "version": "3.9.23"
  }
 },
 "nbformat": 4,
 "nbformat_minor": 5
}
