{
 "cells": [
  {
   "cell_type": "markdown",
   "metadata": {
    "id": "4ip9unWK8O-U"
   },
   "source": [
    "# Lab 3: Populating Schemas and Basic `SPARQL`\n",
    "\n",
    "**Learning Outcomes:**\n",
    "\n",
    "*   Manually populate a graph with individuals.\n",
    "*   Iteratively populate your RDF graph with instances from a `CSV` file.\n",
    "*   Understand the fundamental structure of a `SPARQL` query.\n",
    "*   Write basic `SELECT` queries to retrieve data from your graph.\n",
    "*   Use the `FILTER` clause to find specific information based on textual or numerical conditions.\n",
    "\n",
    "## **Part 1:** Populating Graph with Instances\n",
    "Before lerning to write `SPARQL` queries, we need data. We'll start by defining a simple schema for a movie dataset, then load the data from a .csv file and add it to our graph.\n",
    "\n",
    "\n",
    "---\n",
    "\n",
    "\n",
    "### **Step 1:** Install Libraries and Import Useful Functions"
   ]
  },
  {
   "cell_type": "code",
   "execution_count": null,
   "metadata": {
    "id": "qKEkhnlc7_Jy"
   },
   "outputs": [],
   "source": [
    "!pip3 install rdflib pandas -U -q\n",
    "\n",
    "import pandas as pd # for loading CSV\n",
    "from rdflib import Graph, Literal, Namespace\n",
    "from rdflib.namespace import RDF, RDFS, XSD, SDO, OWL"
   ]
  },
  {
   "cell_type": "markdown",
   "metadata": {
    "id": "UJDwDqahctUG"
   },
   "source": [
    "Remember the functions and namespaces from Lab 2. Additionally, we will need the `pandas` library for loading external files to be iterated over.\n",
    "\n",
    "\n",
    "---\n",
    "\n",
    "\n",
    "### **Step 2:** Before Adding Instances\n",
    "We will be using a publicly-available [movie dataset](https://www.kaggle.com/datasets/harshitshankhdhar/imdb-dataset-of-top-1000-movies-and-tv-shows). Following columns will be used:\n",
    "\n",
    "*   **Series_Title:** The movie's title.\n",
    "*   **Released_Year:** Year the movie was first released.\n",
    "*   **Runtime:** Duration of the movie.\n",
    "*   **Genre:** The movie's categories, separated by commas.\n",
    "*   **IMDB_Rating:** The average user score.\n",
    "*   **Director:** Name of the director.\n",
    "*   **Star1-2-3-4:** Four main actors, in separate columns.\n",
    "*   **No_of_Votes:** Total number of scorings given.\n",
    "*   **Gross:** Generated revenue in dollars (e.g., \"936,662,225\").\n",
    "\n",
    "It is generally good practice to have an ontology associated with your data. We already learned about how to create schema-level graphs using `rdflib` in Lab 2. We will import a schema, pre-made for this dataset, to be used as our ontology."
   ]
  },
  {
   "cell_type": "code",
   "execution_count": null,
   "metadata": {
    "collapsed": true,
    "id": "GUZHQUHElmgK"
   },
   "outputs": [],
   "source": [
    "g = Graph()\n",
    "g.parse(\"/content/movie_schema.ttl\", format=\"ttl\") # import graph\n",
    "\n",
    "print(g.serialize(format=\"ttl\"))"
   ]
  },
  {
   "cell_type": "markdown",
   "metadata": {
    "id": "dF5ZFC_ZmQ6Z"
   },
   "source": [
    "The ontology is visualized below:\\\n",
    "![Schema Visual](./schema_visual.png)\n",
    "\n",
    "We should also define some variables (from the schema) in our coding environment. This will make our work easier and more understandable."
   ]
  },
  {
   "cell_type": "code",
   "execution_count": null,
   "metadata": {
    "id": "XwHwwEdDnf4E"
   },
   "outputs": [],
   "source": [
    "# Custom namespace\n",
    "MOVIES = Namespace(\"http://example.org/movies/\")\n",
    "\n",
    "# Bind namespaces\n",
    "g.bind(\"movies\", MOVIES)\n",
    "g.bind(\"sdo\", SDO)\n",
    "g.bind(\"rdfs\", RDFS)\n",
    "g.bind(\"owl\", OWL)\n",
    "\n",
    "# Classes\n",
    "Movie = MOVIES.Movie\n",
    "Director = MOVIES.Director\n",
    "Actor = MOVIES.Actor\n",
    "Genre = MOVIES.Genre\n",
    "\n",
    "# Properties\n",
    "hasTitle = MOVIES.hasTitle\n",
    "hasDirector = MOVIES.hasDirector\n",
    "hasActor = MOVIES.hasActor\n",
    "hasGenre = MOVIES.hasGenre\n",
    "releasedInYear = MOVIES.releasedInYear\n",
    "hasImdbRating = MOVIES.hasImdbRating\n",
    "hasRuntime = MOVIES.hasRuntime\n",
    "hasGrossRevenue = MOVIES.hasGrossRevenue\n",
    "hasName = MOVIES.hasName"
   ]
  },
  {
   "cell_type": "markdown",
   "metadata": {
    "id": "2bd0khJCoxyq"
   },
   "source": [
    "\n",
    "\n",
    "---\n",
    "\n",
    "\n",
    "### **Exercise 1:** Manually Adding Instances\n",
    "At this point, we can start populating our graph with individuals. To understand the basics, we will add a single instance by hand.\n",
    "\n",
    "1.   Think of a recent movie you watched. Search the web to find its information corresponding to the columns we will use, e.g. title, director, revenue etc.\n",
    "2.   Fill the blank variables below, according to our schema. Be consistent with how the data looks under each column. Follow the comments for correct formatting.\n",
    "3.   Print the graph and locate the data you've manually added.\n",
    "\n",
    "<ins>**Note:**</ins>  See that we need to form a main URI for our movie. It is a good practice to form it as an extension of our custom namespace, e.g. `http://example.org/movies/YourMovieTitle`."
   ]
  },
  {
   "cell_type": "code",
   "execution_count": null,
   "metadata": {
    "id": "zA3TlUfRrFN8"
   },
   "outputs": [],
   "source": [
    "# --- Fill in the details of your chosen movie ---\n",
    "title = ...\n",
    "director = ...\n",
    "actor = ...\n",
    "genre = ...\n",
    "year = ...\n",
    "rating = ... # e.g., 8.5 (decimal)\n",
    "runtime = ... # e.g., 150 (with no \"min\" after)\n",
    "revenue = ... # e.g., 100000000 (no commas)\n",
    "# ------------------------------------------------\n",
    "\n",
    "# Create a unique URI for your movie\n",
    "movie_uri = ...\n",
    "director_uri = ...\n",
    "actor_uri = ...\n",
    "\n",
    "# Add movie triples\n",
    "g.add((movie_uri, RDF.type, Movie))\n",
    "g.add((movie_uri, hasTitle, ...)) # add title as a xsd:string Literal\n",
    "g.add((movie_uri, hasGenre, Literal(genre)))\n",
    "g.add((movie_uri, releasedInYear, ...)) # add release year as a xsd:gYear Literal\n",
    "g.add((movie_uri, hasImdbRating, Literal(rating, datatype=XSD.decimal)))\n",
    "g.add((movie_uri, hasRuntime, Literal(runtime, datatype=XSD.integer)))\n",
    "g.add((movie_uri, ..., Literal(revenue, datatype=XSD.integer))) # find the suitable predicate\n",
    "\n",
    "# Add people triples\n",
    "g.add((director_uri, RDF.type, ...)) # define director's Class\n",
    "g.add((director_uri, hasName, Literal(director)))\n",
    "g.add((actor_uri, RDF.type, Actor))\n",
    "g.add((actor_uri, hasName, Literal(actor)))\n",
    "\n",
    "# Link the movie to its people\n",
    "g.add((..., hasDirector, ...)) # fill the proper URIs\n",
    "g.add((movie_uri, hasActor, actor_uri))\n",
    "\n",
    "# Print your graph\n",
    "..."
   ]
  },
  {
   "cell_type": "markdown",
   "metadata": {
    "id": "Q_ZCjq2PrEW9"
   },
   "source": [
    "\n",
    "\n",
    "---\n",
    "\n",
    "\n",
    "### **Step 3:** Iteratively Adding Instances\n",
    "As adding each row manually would be very tiresome, we'll use `pandas` to read our `CSV` and loop through it to populate the graph programmatically. Download the `imdb_top_1000.csv` file from the [Kaggle dataset page](https://www.kaggle.com/datasets/harshitshankhdhar/imdb-dataset-of-top-1000-movies-and-tv-shows). Place it in the same directory this code runs in.\n",
    "\n",
    "Let's start by reading the data:"
   ]
  },
  {
   "cell_type": "code",
   "execution_count": null,
   "metadata": {
    "id": "9lMOtiZu2W7p"
   },
   "outputs": [],
   "source": [
    "# Load the CSV file into a pandas DataFrame, remove rows with empty cells\n",
    "df = pd.read_csv(\"imdb_top_1000.csv\").dropna()\n",
    "print(f\"Removed {1000-len(df)} rows with empty cells.\")\n",
    "\n",
    "# Select the columns of interest\n",
    "selected_columns = [\n",
    "    \"Series_Title\",\n",
    "    \"Released_Year\",\n",
    "    \"Runtime\",\n",
    "    \"Genre\",\n",
    "    \"IMDB_Rating\",\n",
    "    \"Director\",\n",
    "    \"Star1\",\n",
    "    \"Star2\",\n",
    "    \"Star3\",\n",
    "    \"Star4\",\n",
    "    \"No_of_Votes\",\n",
    "    \"Gross\",\n",
    "]\n",
    "df = df[selected_columns]\n",
    "\n",
    "# Print the head of the selected DataFrame\n",
    "display(df.head())"
   ]
  },
  {
   "cell_type": "markdown",
   "metadata": {
    "id": "sShKuaY63Vx2"
   },
   "source": [
    "According to our schema, we need to do some pre-processing on couple columns:\n",
    "\n",
    "*   See that the `Runtime` column is considered a string due to the \"min\" string after the numbers. Since our schema expects an integer for duration, we need to remove the string part.\n",
    "\n",
    "*   The `Gross` column is supposed to contain integer values, but the commas will cause `rdflib` to think they are strings. We need to remove the commas before adding them to our data."
   ]
  },
  {
   "cell_type": "code",
   "execution_count": null,
   "metadata": {
    "id": "Pblh6w7I35rQ"
   },
   "outputs": [],
   "source": [
    "# Remove \"min\" from Runtime\n",
    "df[\"Runtime\"] = df[\"Runtime\"].str.replace(\" min\", \"\").astype(int)\n",
    "\n",
    "# Remove the commas from Gross\n",
    "df[\"Gross\"] = df[\"Gross\"].str.replace(\",\", \"\").astype(int)\n",
    "\n",
    "# Verify the change\n",
    "display(df.head())"
   ]
  },
  {
   "cell_type": "markdown",
   "metadata": {
    "id": "yymsA55J6RDO"
   },
   "source": [
    "A final step is to define a function which automatically creates unique URIs for us. Remember that we need these to represent each of our movies, directors, and actors. The function will take a string as an input, remove all spaces and punctuation marks, then adds it as an extension to our custom namespace."
   ]
  },
  {
   "cell_type": "code",
   "execution_count": null,
   "metadata": {
    "id": "xUqv9g6B7qqF"
   },
   "outputs": [],
   "source": [
    "def create_uri(input_string):\n",
    "    \"\"\"\n",
    "    Creates a URI from an input string\n",
    "    \"\"\"\n",
    "    import re\n",
    "    cleaned_string = re.sub(r'[^\\w]', '', input_string)\n",
    "    uri_string = MOVIES[cleaned_string]\n",
    "    return uri_string\n",
    "\n",
    "test_uri_1 = create_uri(\"The Godfather: Part II\")\n",
    "test_uri_2 = create_uri(\"Francis Ford Coppola\")\n",
    "print(test_uri_1, test_uri_2)"
   ]
  },
  {
   "cell_type": "markdown",
   "metadata": {
    "id": "JXgE2eZj8-dB"
   },
   "source": [
    "Let's start iterating through the data and add the movie triples to our graph."
   ]
  },
  {
   "cell_type": "code",
   "execution_count": null,
   "metadata": {
    "id": "Lc6zG-mn9J3j"
   },
   "outputs": [],
   "source": [
    "for index, row in df.iterrows():\n",
    "\n",
    "  # Get a URI for this movie\n",
    "  movie_uri = create_uri(row[\"Series_Title\"])\n",
    "\n",
    "  # Add movie triples\n",
    "  g.add((movie_uri, RDF.type, Movie))\n",
    "  g.add((movie_uri, hasTitle, Literal(row[\"Series_Title\"])))\n",
    "  g.add((movie_uri, releasedInYear, Literal(row[\"Released_Year\"], datatype=XSD.gYear)))\n",
    "  g.add((movie_uri, hasRuntime, Literal(row[\"Runtime\"], datatype=XSD.integer)))\n",
    "  g.add((movie_uri, hasImdbRating, Literal(row[\"IMDB_Rating\"], datatype=XSD.decimal)))\n",
    "  g.add((movie_uri, hasGrossRevenue, Literal(row[\"Gross\"], datatype=XSD.integer)))\n",
    "\n",
    "print(g.serialize(format=\"ttl\"))"
   ]
  },
  {
   "cell_type": "markdown",
   "metadata": {
    "id": "1K1CatOC_OYe"
   },
   "source": [
    "\n",
    "\n",
    "---\n",
    "\n",
    "\n",
    "### **Exercise 2:** Adding More Data\n",
    "Just like we did for the movies above, add the data for the directors.\n",
    "\n",
    "1.   Start looping through the data. Get the director name in each iteration.\n",
    "2.   Use the function to create a unique director URI.\n",
    "3.   Add the director triples from Exercise 1.\n",
    "4.   Add the object property triple that links the director to their movie."
   ]
  },
  {
   "cell_type": "code",
   "execution_count": null,
   "metadata": {
    "id": "m2LoZLcVAoXX"
   },
   "outputs": [],
   "source": [
    "### YOUR CODE HERE ###"
   ]
  },
  {
   "cell_type": "markdown",
   "metadata": {
    "id": "0wktWge6AuZz"
   },
   "source": [
    "\n",
    "\n",
    "---\n",
    "\n",
    "\n",
    "Sometimes, we may encounter multiple columns that represent same entities. In our case, `Star1-2-3-4` columns can all be added as an `Actor` entity. Instead of writing the same code over and over for each one, we can use a nested loop to add them at once."
   ]
  },
  {
   "cell_type": "code",
   "execution_count": null,
   "metadata": {
    "id": "Zj8C1ykFB7rG"
   },
   "outputs": [],
   "source": [
    "for index, row in df.iterrows():\n",
    "\n",
    "  # Nested loop that goes over column names\n",
    "  for star_col in [\"Star1\", \"Star2\", \"Star3\", \"Star4\"]:\n",
    "    actor_name = row[star_col]\n",
    "\n",
    "    # Get URI for this actor\n",
    "    actor_uri = create_uri(actor_name)\n",
    "\n",
    "    # Add actor triples\n",
    "    g.add((actor_uri, RDF.type, Actor))\n",
    "    g.add((actor_uri, hasName, Literal(actor_name)))\n",
    "    g.add((create_uri(row[\"Series_Title\"]), hasActor, actor_uri))\n",
    "\n",
    "print(g.serialize(format=\"ttl\"))"
   ]
  },
  {
   "cell_type": "markdown",
   "metadata": {
    "id": "jwpZvyqGDV5p"
   },
   "source": [
    "On the other hand, a single column could contain multiple values that should be added separately to our graph. See that the `Genre` column can have multiple strings, separated by commas. We can split the data and add each item with nested loops again."
   ]
  },
  {
   "cell_type": "code",
   "execution_count": null,
   "metadata": {
    "id": "OHqqeCv3D4oj"
   },
   "outputs": [],
   "source": [
    "for index, row in df.iterrows():\n",
    "\n",
    "  # Convert to a list\n",
    "  genres = row[\"Genre\"].split(\",\")\n",
    "\n",
    "  # Nested loop going through all genres of this movie\n",
    "  for genre in genres:\n",
    "    movie_uri = create_uri(row[\"Series_Title\"])\n",
    "    g.add((movie_uri, hasGenre, Literal(genre.strip())))\n",
    "\n",
    "print(g.serialize(format=\"ttl\"))"
   ]
  },
  {
   "cell_type": "markdown",
   "metadata": {
    "id": "OhkdMUJOEsP-"
   },
   "source": [
    "With these examples, we have populated our graph with information about 714 movies. We can fully leverage this large graph with `SPARQL` queries in the following section.\n",
    "\n",
    "<ins>**Note:**</ins> In Protégé, you can check the specific instances you've added. Definitely take a look if you are curious.\n",
    "\n",
    "\n",
    "---\n",
    "\n",
    "\n",
    "## **Part 2:** Basic `SPARQL`\n",
    "`SPARQL` (SPARQL Protocol and RDF Query Language) is the standard query language for `RDF` graphs. Think of it as `SQL` for graph data. Instead of selecting from tables and rows, `SPARQL` allows you to describe the shape or pattern of the data you're looking for within the graph. You can read the official W3C specification for `SPARQL 1.1` [here](https://www.w3.org/TR/sparql11-query/).\n",
    "\n",
    "\n",
    "---\n",
    "\n",
    "\n",
    "### **Anatomy of a `SPARQL` Query**\n",
    "A basic query has a few key components.\n",
    "\n",
    "```sparql\n",
    "PREFIX movies: <http://example.org/movies/>\n",
    "\n",
    "SELECT ?title ?year\n",
    "WHERE {\n",
    "  ?movie movies:hasTitle ?title ;\n",
    "         movies:releasedInYear ?year .\n",
    "}\n",
    "```\n",
    "*   **`PREFIX`**: This is a shortcut. It lets us write `movies:hasTitle` instead of `<http://example.org/movies/hasTitle>`.\n",
    "\n",
    "*   **`SELECT`**: This specifies which variables you want in your results. A variable in `SPARQL` always starts with a **?**.\n",
    "\n",
    "*   **`WHERE`**: This is the structural part of the query. It contains the triple patterns that `SPARQL` will try to match against the graph.\n",
    "\n",
    "`SPARQL` may not be very intuitive at the beginning. A good way of getting used to it is studying the structure of your target graph(s) beforehand. This will help you reach the variable you are querying for way faster and efficiently.\n",
    "\n",
    "\n",
    "---\n",
    "\n",
    "\n",
    "### **Query 1:** `SELECT` for Basic Viewing\n",
    "Let's start with the simplest query to learn `rdflib` syntax for querying."
   ]
  },
  {
   "cell_type": "code",
   "execution_count": null,
   "metadata": {
    "id": "qdd-BuMNKsBp"
   },
   "outputs": [],
   "source": [
    "# Select the first five movies' titles from our dataset\n",
    "q1 = \"\"\"\n",
    "PREFIX movies: <http://example.org/movies/>\n",
    "\n",
    "SELECT ?title\n",
    "WHERE {\n",
    "\n",
    "  ?movie movies:hasTitle ?title .\n",
    "\n",
    "} LIMIT 5\n",
    "\"\"\"\n",
    "\n",
    "for row in g.query(q1):\n",
    "  print(row.title)"
   ]
  },
  {
   "cell_type": "markdown",
   "metadata": {
    "id": "F4DlW3mDLvYr"
   },
   "source": [
    "Write your query as a string block, then use the `Graph.query()` method to get the results as an iterable. See that we used `LIMIT` functionality to only return the first five results. This is useful when querying large graphs.\n",
    "\n",
    "\n",
    "---\n",
    "\n",
    "\n",
    "### **Query 2:** `FILTER` for Finding Specific Information\n",
    "There are two ways we can filter data with `SPARQL`. While looking for exact values, we can state them explicitly in the object part of a query triple. For example, let's find the first 10 movies' genres with release date 2000."
   ]
  },
  {
   "cell_type": "code",
   "execution_count": null,
   "metadata": {
    "id": "_MkUlq2pM_uV"
   },
   "outputs": [],
   "source": [
    "# Query to find the first 10 movies' genres released in the year 2000\n",
    "q2 = \"\"\"\n",
    "PREFIX movies: <http://example.org/movies/>\n",
    "PREFIX xsd: <http://www.w3.org/2001/XMLSchema#>\n",
    "\n",
    "SELECT ?genre\n",
    "WHERE {\n",
    "  ?movie movies:hasGenre ?genre ;\n",
    "         movies:releasedInYear \"2000\"^^xsd:gYear . # the value and data type\n",
    "} LIMIT 10\n",
    "\"\"\"\n",
    "\n",
    "print(\"Movies released in 2000 (first 10):\")\n",
    "for row in g.query(q2):\n",
    "    print(row.genre)"
   ]
  },
  {
   "cell_type": "markdown",
   "metadata": {
    "id": "cXWRQnNcOI6r"
   },
   "source": [
    "For conditional filtering, we can directly use the `FILTER` functionality. This helps us find results with values greater or lesser than a certain amount. Let's query for the first 5 movies' titles and ratings that have gross revenue higher than 500 million dollars."
   ]
  },
  {
   "cell_type": "code",
   "execution_count": null,
   "metadata": {
    "id": "DRmN0OtdPvlX"
   },
   "outputs": [],
   "source": [
    "# Query for the first 5 movies' ratings with gross revenue higher than 100 million dollars\n",
    "q3 = \"\"\"\n",
    "PREFIX movies: <http://example.org/movies/>\n",
    "PREFIX xsd: <http://www.w3.org/2001/XMLSchema#>\n",
    "\n",
    "SELECT ?title ?rating\n",
    "WHERE {\n",
    "\n",
    "  ?movie movies:hasTitle ?title ;\n",
    "         movies:hasImdbRating ?rating ;\n",
    "         movies:hasGrossRevenue ?revenue .\n",
    "\n",
    "  FILTER( ?revenue > 500000000 ) # conditional filtering\n",
    "\n",
    "} LIMIT 5\n",
    "\"\"\"\n",
    "\n",
    "# Execute the query and print the results\n",
    "print(\"Movies with gross revenue > $500,000,000 (first 5):\")\n",
    "for row in g.query(q3):\n",
    "    print(f\"Title: {row.title}, Rating: {row.rating}\")"
   ]
  },
  {
   "cell_type": "markdown",
   "metadata": {
    "id": "81KyYXquQqCW"
   },
   "source": [
    "\n",
    "\n",
    "---\n",
    "\n",
    "\n",
    "### **Exercise 3:** Combining Multiple `FILTER` Methods\n",
    "We can also use both techniques to refine our search. Moreover, multiple conditions can be passed into the `FILTER` function by using `&&` (`AND`) operator. Fill the `WHERE` clause of below queries to understand targeted querying.\n",
    "\n",
    "#### **Exercise 3.1:** Find 5 lengthy films (and their release years) that are both critically and commercially successful.\n",
    "\n",
    "Criteria:\n",
    "*   Runtime greater than 180 minutes.\n",
    "*   IMDb Rating higher than 8.5.\n",
    "*   Gross Revenue over $100,000,000."
   ]
  },
  {
   "cell_type": "code",
   "execution_count": null,
   "metadata": {
    "id": "4GfJBYxCSV4k"
   },
   "outputs": [],
   "source": [
    "# Fill in the WHERE clause and FILTER conditions for this query\n",
    "q_3_1 = \"\"\"\n",
    "PREFIX movies: <http://example.org/movies/>\n",
    "\n",
    "SELECT ?title ?year\n",
    "WHERE {\n",
    "    # Add your triple patterns here\n",
    "\n",
    "    # Add your filter conditions here\n",
    "} # LIMIT 5\n",
    "\"\"\"\n",
    "\n",
    "print(\"--- Blockbusters ---\")\n",
    "for row in g.query(q_3_1):\n",
    "  print(f\"{row.title} (Year: {row.year})\")"
   ]
  },
  {
   "cell_type": "markdown",
   "metadata": {
    "id": "IBJQhFQYVn-K"
   },
   "source": [
    "#### **Exercise 3.2:** Find 5 films where both Leonardo DiCaprio and Johnny Depp has acted in, however has made less revenue than 10,000,000 dollars.\n",
    "\n",
    "Criteria:\n",
    "*   Must have Leonardo DiCaprio as an actor.\n",
    "*   Must have Johnny Depp as an actor.\n",
    "*   Must have gross revenue less than 10,000,000."
   ]
  },
  {
   "cell_type": "code",
   "execution_count": null,
   "metadata": {
    "id": "4qKagGNrXueU"
   },
   "outputs": [],
   "source": [
    "# Fill in the WHERE clause and FILTER conditions for this query\n",
    "q_3_2 = \"\"\"\n",
    "PREFIX movies: <http://example.org/movies/>\n",
    "\n",
    "SELECT ?title\n",
    "WHERE {\n",
    "    # Add your triple patterns here, do not forget to match exact values\n",
    "\n",
    "    # Add your filter conditions here\n",
    "} # LIMIT 5\n",
    "\"\"\"\n",
    "\n",
    "print(\"--- Definitely Made a Loss ---\")\n",
    "results = list(g.query(q_3_2))\n",
    "for row in results:\n",
    "  print(f\"{row.title}\")"
   ]
  }
 ],
 "metadata": {
  "colab": {
   "authorship_tag": "ABX9TyPPe87l43xqf8cbIzhYwZXp",
   "provenance": []
  },
  "kernelspec": {
   "display_name": "Python 3",
   "name": "python3"
  },
  "language_info": {
   "name": "python"
  }
 },
 "nbformat": 4,
 "nbformat_minor": 0
}
