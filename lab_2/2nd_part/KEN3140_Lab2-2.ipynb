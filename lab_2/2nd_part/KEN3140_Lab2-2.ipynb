{
 "cells": [
  {
   "cell_type": "markdown",
   "metadata": {
    "id": "9CVqtAFfSj7Z"
   },
   "source": [
    "# **Lab 4:** Advanced `SPARQL`\n",
    "\n",
    "**Learning Outcomes:**\n",
    "\n",
    "*   Aggregate results using `GROUP BY`.\n",
    "*   Perform calculations like `AVG`, `COUNT`, `SUM` on the aggregated data.\n",
    "*   Sort results using `ORDER BY` to rank your findings.\n",
    "*   Learning to use nested queries.\n",
    "*   Create subgraphs with `CONSTRUCT`.\n",
    "*   Write a federated query using the `SERVICE` keyword to enrich your local data with an external `SPARQL` endpoint.\n",
    "\n",
    "\n",
    "---\n",
    "\n",
    "\n",
    "## **Setup:** Install `rdflib`, Import Functions and Populated Graph\n",
    "\n",
    "In Lab 3, we populated a schema with top 1000 IMDb movies & tv shows. We can import our instances to conduct our advanced queries."
   ]
  },
  {
   "cell_type": "code",
   "execution_count": 1,
   "metadata": {
    "id": "t-fPKRDLPODB"
   },
   "outputs": [],
   "source": [
    "!pip3 install rdflib -U -q\n",
    "\n",
    "from rdflib import Graph, Literal, Namespace"
   ]
  },
  {
   "cell_type": "code",
   "execution_count": 2,
   "metadata": {
    "collapsed": true,
    "id": "MW1ogghYkxsq"
   },
   "outputs": [
    {
     "name": "stderr",
     "output_type": "stream",
     "text": [
      "Failed to convert Literal lexical form to value. Datatype=http://www.w3.org/2001/XMLSchema#gYear, Converter=<function parse_xsd_gyear at 0x000001C33CD4EE50>\n",
      "Traceback (most recent call last):\n",
      "  File \"c:\\Users\\Timur\\AppData\\Local\\Programs\\Python\\Python39\\lib\\site-packages\\rdflib\\term.py\", line 2163, in _castLexicalToPython\n",
      "    return conv_func(lexical)  # type: ignore[arg-type]\n",
      "  File \"c:\\Users\\Timur\\AppData\\Local\\Programs\\Python\\Python39\\lib\\site-packages\\rdflib\\xsd_datetime.py\", line 618, in parse_xsd_gyear\n",
      "    raise ValueError(\"gYear string must be at least 4 numerals in length\")\n",
      "ValueError: gYear string must be at least 4 numerals in length\n"
     ]
    },
    {
     "data": {
      "text/plain": [
       "<Graph identifier=Nf209e10fd80947df9da2ea25ab838cea (<class 'rdflib.graph.Graph'>)>"
      ]
     },
     "execution_count": 2,
     "metadata": {},
     "output_type": "execute_result"
    }
   ],
   "source": [
    "g = Graph()\n",
    "g.parse(\"movie_graph.ttl\", format=\"ttl\")"
   ]
  },
  {
   "cell_type": "markdown",
   "metadata": {
    "id": "B-5iZeaRlct_"
   },
   "source": [
    "Let's run a general query to see if our graph loaded properly before you move onto the advanced `SPARQL` functionalities."
   ]
  },
  {
   "cell_type": "code",
   "execution_count": 3,
   "metadata": {
    "id": "WPLsEDcPlofO"
   },
   "outputs": [
    {
     "name": "stdout",
     "output_type": "stream",
     "text": [
      "http://example.org/movies/ToddPhillips http://www.w3.org/1999/02/22-rdf-syntax-ns#type http://example.org/movies/Director\n",
      "http://example.org/movies/CowboyBebopTengokunotobira http://example.org/movies/hasActor http://example.org/movies/BeauBillingslea\n",
      "http://example.org/movies/Brazil http://example.org/movies/hasActor http://example.org/movies/KatherineHelmond\n",
      "http://example.org/movies/Gladiator http://example.org/movies/hasActor http://example.org/movies/JoaquinPhoenix\n",
      "http://example.org/movies/Serpico http://example.org/movies/hasGrossRevenue 29800000\n",
      "http://example.org/movies/TheStraightStory http://example.org/movies/hasDirector http://example.org/movies/DavidLynch\n",
      "http://example.org/movies/YayanRuhian http://example.org/movies/hasName Yayan Ruhian\n",
      "http://example.org/movies/TheMachinist http://example.org/movies/releasedInYear 2004\n",
      "http://example.org/movies/NorikoHidaka http://example.org/movies/hasName Noriko Hidaka\n",
      "http://example.org/movies/InBruges http://example.org/movies/hasImdbRating 7.9\n"
     ]
    }
   ],
   "source": [
    "qres = \"\"\"\n",
    "SELECT DISTINCT ?s ?p ?o\n",
    "WHERE {\n",
    "\n",
    "  ?s ?p ?o .\n",
    "\n",
    "} LIMIT 10\n",
    "\"\"\"\n",
    "\n",
    "for row in g.query(qres):\n",
    "    print(f\"{row.s} {row.p} {row.o}\")"
   ]
  },
  {
   "cell_type": "markdown",
   "metadata": {
    "id": "Yf_i-oslmVju"
   },
   "source": [
    "\n",
    "\n",
    "---\n",
    "\n",
    "\n",
    "## **Part 1:** Aggregation with `GROUP BY`\n",
    "So far, we've only retrieved existing data. But the real power of a query language comes from its ability to calculate new information. To accomplish this, we need to learn how to group our data in a meaningful way. Aggregation is the process of taking many values and summarizing them into groups with the `GROUP BY` functionality. While `GROUP BY` is most often paired with calculation functions like `AVG` or `COUNT`, it can also be used in a powerful way to collect and display all the items associated with a particular group. This is perfect for \"discovery\" tasks where you want to see the full scope of something in your dataset.\n",
    "\n",
    "Let's answer the following question by writing a query with `GROUP BY`. We will also use `GROUP_CONCAT` and `AS` functions to format the grouped values to be more human-readable."
   ]
  },
  {
   "cell_type": "code",
   "execution_count": 6,
   "metadata": {
    "id": "UVqyyUnNoH5m"
   },
   "outputs": [
    {
     "name": "stdout",
     "output_type": "stream",
     "text": [
      "Director => Sidney Lumet\n",
      "Filmography => 12 Angry Men | Dog Day Afternoon | Serpico | The Verdict\n",
      "--------------------\n",
      "Director => Steve McQueen\n",
      "Filmography => 12 Years a Slave\n",
      "--------------------\n",
      "Director => Sam Mendes\n",
      "Filmography => 1917 | American Beauty | Road to Perdition | Skyfall\n",
      "--------------------\n",
      "Director => Stanley Kubrick\n",
      "Filmography => 2001: A Space Odyssey | A Clockwork Orange | Dr. Strangelove or: How I Learned to Stop Worrying and Love the Bomb | Full Metal Jacket | Spartacus | The Shining\n",
      "--------------------\n",
      "Director => Alejandro G. Iñárritu\n",
      "Filmography => 21 Grams | Amores perros | Birdman or (The Unexpected Virtue of Ignorance) | The Revenant\n",
      "--------------------\n"
     ]
    }
   ],
   "source": [
    "q_1 = \"\"\"\n",
    "PREFIX movies: <http://example.org/movies/>\n",
    "\n",
    "SELECT ?directorName ( GROUP_CONCAT(?title; separator=\" | \") AS ?filmography ) # formatting\n",
    "WHERE {\n",
    "  ?director movies:hasName ?directorName .\n",
    "\n",
    "  ?movie movies:hasDirector ?director ;\n",
    "         movies:hasTitle ?title .\n",
    "}\n",
    "GROUP BY ?directorName # use GROUP BY outside the WHERE clause\n",
    "LIMIT 5\n",
    "\"\"\"\n",
    "for row in g.query(q_1):\n",
    "  print(f\"Director => {row.directorName}\")\n",
    "  print(f\"Filmography => {row.filmography}\")\n",
    "  print(\"-\"*20)"
   ]
  },
  {
   "cell_type": "markdown",
   "metadata": {
    "id": "UAQ2JnrVo_u1"
   },
   "source": [
    "\n",
    "\n",
    "---\n",
    "\n",
    "\n",
    "## **Part 2:** Computing New Information with `AVG`, `COUNT`, and `SUM`\n",
    "\n",
    "Now we can make calculations on our groups to reveal new information about our data. Let's start with finding average IMDb rating for each director. Here, we will use `GROUP BY` to group all movies by their director. Then, for each group, we will use the `AVG` function to calculate the average rating. We can also give this new calculated value a name using `AS`."
   ]
  },
  {
   "cell_type": "code",
   "execution_count": 7,
   "metadata": {
    "id": "uHPE-W4KqbuR"
   },
   "outputs": [
    {
     "name": "stdout",
     "output_type": "stream",
     "text": [
      "--- Average Rating per Director ---\n",
      "Sidney Lumet: 8.1\n",
      "Steve McQueen: 8.1\n",
      "Sam Mendes: 8.0\n",
      "Stanley Kubrick: 8.27\n",
      "Alejandro G. Iñárritu: 7.85\n",
      "Spike Lee: 7.72\n",
      "Danny Boyle: 7.9\n",
      "Zack Snyder: 7.6\n",
      "James Mangold: 7.92\n",
      "Rajkumar Hirani: 8.4\n"
     ]
    }
   ],
   "source": [
    "q_2 = \"\"\"\n",
    "PREFIX movies: <http://example.org/movies/>\n",
    "\n",
    "SELECT ?directorName (AVG(?rating) AS ?avgRating) # use AVG in SELECT clause\n",
    "WHERE {\n",
    "    ?director movies:hasName ?directorName .\n",
    "\n",
    "    ?movie movies:hasDirector ?director ;\n",
    "           movies:hasImdbRating ?rating .\n",
    "}\n",
    "GROUP BY ?directorName\n",
    "LIMIT 10\n",
    "\"\"\"\n",
    "\n",
    "print(\"--- Average Rating per Director ---\")\n",
    "for row in g.query(q_2):\n",
    "  print(f\"{row.directorName}: {round(float(row.avgRating), 2)}\")"
   ]
  },
  {
   "cell_type": "markdown",
   "metadata": {
    "id": "SJvBUU0-rKUS"
   },
   "source": [
    "See that we combine our `SPARQL` output with `Python` functions such as `float` and `round` to get more readable printouts.\n",
    "\n",
    "Let's improve this query by also returning the total number of movies per director in the dataset. We will use the `COUNT` functionality."
   ]
  },
  {
   "cell_type": "code",
   "execution_count": 8,
   "metadata": {
    "id": "8i7w3xCUszAS"
   },
   "outputs": [
    {
     "name": "stdout",
     "output_type": "stream",
     "text": [
      "--- Average Rating and Movie Count per Director ---\n",
      "Sidney Lumet: 8.1 Rating, 4 Movies\n",
      "Steve McQueen: 8.1 Rating, 1 Movies\n",
      "Sam Mendes: 8.0 Rating, 4 Movies\n",
      "Stanley Kubrick: 8.27 Rating, 6 Movies\n",
      "Alejandro G. Iñárritu: 7.85 Rating, 4 Movies\n",
      "Spike Lee: 7.72 Rating, 4 Movies\n",
      "Danny Boyle: 7.9 Rating, 3 Movies\n",
      "Zack Snyder: 7.6 Rating, 2 Movies\n",
      "James Mangold: 7.92 Rating, 4 Movies\n",
      "Rajkumar Hirani: 8.4 Rating, 1 Movies\n"
     ]
    }
   ],
   "source": [
    "q_3 = \"\"\"\n",
    "PREFIX movies: <http://example.org/movies/>\n",
    "\n",
    "SELECT ?directorName (AVG(?rating) AS ?avgRating) (COUNT(?movie) AS ?movieCount)\n",
    "WHERE {\n",
    "    ?director movies:hasName ?directorName .\n",
    "\n",
    "    ?movie movies:hasDirector ?director ;\n",
    "           movies:hasImdbRating ?rating .\n",
    "}\n",
    "GROUP BY ?directorName\n",
    "LIMIT 10\n",
    "\"\"\"\n",
    "\n",
    "print(\"--- Average Rating and Movie Count per Director ---\")\n",
    "for row in g.query(q_3):\n",
    "  print(f\"{row.directorName}: {round(float(row.avgRating), 2)} Rating, {row.movieCount} Movies\")"
   ]
  },
  {
   "cell_type": "markdown",
   "metadata": {
    "id": "f3uxifZrupxF"
   },
   "source": [
    "\n",
    "\n",
    "---\n",
    "\n",
    "\n",
    "## **Exercise 1:** Further Improving the Query with `SUM`\n",
    "\n",
    "Calculate the total revenue each director made by using `SUM`.\n",
    "\n",
    "1.   Modify the `WHERE` clause to reach the gross revenue.\n",
    "2.   Add the `SUM` (with `AS`) to the `SELECT` clause.\n",
    "3.   Print a readable director summary."
   ]
  },
  {
   "cell_type": "code",
   "execution_count": 12,
   "metadata": {
    "id": "Wuzr2e2SvHID"
   },
   "outputs": [
    {
     "name": "stdout",
     "output_type": "stream",
     "text": [
      "--- Director Summary ---\n",
      "Sidney Lumet: 8.1 Rating, 4 Movies, Total Revenue 138160000\n",
      "Steve McQueen: 8.1 Rating, 1 Movies, Total Revenue 56671993\n",
      "Sam Mendes: 8.0 Rating, 4 Movies, Total Revenue 698139284\n",
      "Stanley Kubrick: 8.27 Rating, 6 Movies, Total Revenue 183813669\n",
      "Alejandro G. Iñárritu: 7.85 Rating, 4 Movies, Total Revenue 247652802\n",
      "Spike Lee: 7.72 Rating, 4 Movies, Total Revenue 177289691\n",
      "Danny Boyle: 7.9 Rating, 3 Movies, Total Revenue 202886628\n",
      "Zack Snyder: 7.6 Rating, 2 Movies, Total Revenue 318124738\n",
      "James Mangold: 7.92 Rating, 4 Movies, Total Revenue 517027414\n",
      "Rajkumar Hirani: 8.4 Rating, 1 Movies, Total Revenue 6532908\n"
     ]
    }
   ],
   "source": [
    "q_4 = \"\"\"\n",
    "PREFIX movies: <http://example.org/movies/>\n",
    "\n",
    "SELECT ?directorName (AVG(?rating) AS ?avgRating) (COUNT(?movie) AS ?movieCount) (SUM(?revenue) AS ?total_revenue)\n",
    "WHERE {\n",
    "    ?director movies:hasName ?directorName .\n",
    "\n",
    "    ?movie movies:hasDirector ?director ;\n",
    "          movies:hasGrossRevenue ?revenue;\n",
    "           movies:hasImdbRating ?rating .\n",
    "}\n",
    "GROUP BY ?directorName\n",
    "LIMIT 10\n",
    "\"\"\"\n",
    "\n",
    "print(\"--- Director Summary ---\")\n",
    "for row in g.query(q_4):\n",
    "  print(f\"{row.directorName}: {round(float(row.avgRating), 2)} Rating, {row.movieCount} Movies, Total Revenue {row['total_revenue']}\")"
   ]
  },
  {
   "cell_type": "code",
   "execution_count": null,
   "metadata": {},
   "outputs": [],
   "source": []
  },
  {
   "cell_type": "markdown",
   "metadata": {
    "id": "TH75E-yFxQCz"
   },
   "source": [
    "\n",
    "\n",
    "---\n",
    "\n",
    "\n",
    "## **Part 3:** Sorting Results with `ORDER BY`, `DESC`, and `ASC`\n",
    "\n",
    "Calculating summaries is useful, but it's even more powerful when we can rank the results. The `ORDER BY` clause lets us sort our results. We can sort in ascending order (`ASC`) or descending order (`DESC`). This allows us to create ranked lists and find the \"top\" or \"bottom\" items based on some criteria.\n",
    "\n",
    "Let's start with finding bottom 5 directors by average rating:"
   ]
  },
  {
   "cell_type": "code",
   "execution_count": 13,
   "metadata": {
    "id": "uwqLzpaH0X-J"
   },
   "outputs": [
    {
     "name": "stdout",
     "output_type": "stream",
     "text": [
      "--- Bottom 5 Directors by Average Rating ---\n",
      "Zack Snyder: 7.6\n",
      "Jonathan Levine: 7.6\n",
      "Richard Lester: 7.6\n",
      "Bradley Cooper: 7.6\n",
      "Mary Harron: 7.6\n"
     ]
    }
   ],
   "source": [
    "q_5 = \"\"\"\n",
    "PREFIX movies: <http://example.org/movies/>\n",
    "\n",
    "SELECT ?directorName (AVG(?rating) AS ?avgRating)\n",
    "WHERE {\n",
    "    ?director movies:hasName ?directorName .\n",
    "\n",
    "    ?movie movies:hasDirector ?director ;\n",
    "           movies:hasImdbRating ?rating .\n",
    "}\n",
    "GROUP BY ?directorName\n",
    "ORDER BY ASC(?avgRating) # correct usage of ORDER BY\n",
    "LIMIT 5\n",
    "\"\"\"\n",
    "\n",
    "print(\"--- Bottom 5 Directors by Average Rating ---\")\n",
    "for row in g.query(q_5):\n",
    "    print(f\"{row.directorName}: {round(float(row.avgRating), 2)}\")"
   ]
  },
  {
   "cell_type": "markdown",
   "metadata": {
    "id": "Nj6I2hWs0x2a"
   },
   "source": [
    "Similarly, we can see which actors appear the most in our dataset:"
   ]
  },
  {
   "cell_type": "code",
   "execution_count": 14,
   "metadata": {
    "id": "JECCVvho09Gt"
   },
   "outputs": [
    {
     "name": "stdout",
     "output_type": "stream",
     "text": [
      "--- Top 10 Most Prolific Actors ---\n",
      "Robert De Niro: 16 movies\n",
      "Tom Hanks: 14 movies\n",
      "Al Pacino: 13 movies\n",
      "Brad Pitt: 12 movies\n",
      "Christian Bale: 11 movies\n",
      "Leonardo DiCaprio: 11 movies\n",
      "Matt Damon: 11 movies\n",
      "Clint Eastwood: 11 movies\n",
      "Denzel Washington: 9 movies\n",
      "Ethan Hawke: 9 movies\n"
     ]
    }
   ],
   "source": [
    "q_6 = \"\"\"\n",
    "PREFIX movies: <http://example.org/movies/>\n",
    "\n",
    "SELECT ?actorName (COUNT(?movie) AS ?movieCount)\n",
    "WHERE {\n",
    "\n",
    "    ?actor movies:hasName ?actorName .\n",
    "    ?movie movies:hasActor ?actor .\n",
    "\n",
    "}\n",
    "GROUP BY ?actorName\n",
    "ORDER BY DESC(?movieCount) # same but descending\n",
    "LIMIT 10\n",
    "\"\"\"\n",
    "\n",
    "print(\"--- Top 10 Most Prolific Actors ---\")\n",
    "for row in g.query(q_6):\n",
    "    print(f\"{row.actorName}: {row.movieCount} movies\")"
   ]
  },
  {
   "cell_type": "markdown",
   "metadata": {
    "id": "Mdp5Ng0b2NfP"
   },
   "source": [
    "\n",
    "\n",
    "---\n",
    "\n",
    "\n",
    "## **Part 4:** Subqueries\n",
    "\n",
    "Sometimes, a query is too complex to solve in a single step. Nested queries, also known as subqueries, allow you to perform a query within your main query. The inner query runs first, and its results can be used, filtered, and joined by the outer query. This is an extremely powerful technique for breaking down complex problems.\n",
    "\n",
    "A subquery is just a standard `SELECT` query enclosed in curly braces { } within the `WHERE` clause of another query.\n",
    "\n",
    "\n",
    "\n",
    "```sparql\n",
    "SELECT ?variable1 ?variable2\n",
    "WHERE { # outer query\n",
    "  ?item :someProperty ?variable1 .\n",
    "\n",
    "  # Inner (Nested) Query\n",
    "  { SELECT ?variable2 (AGG_FUNCTION(?x) AS ?calculatedValue)\n",
    "    WHERE {\n",
    "      # Inner query patterns\n",
    "    } GROUP BY ?variable2\n",
    "  }\n",
    "\n",
    "  # The outer query can now use the results from the inner query\n",
    "  FILTER(?variable1 > ?calculatedValue)\n",
    "}\n",
    "```\n",
    "\n",
    "Let's see an example query for our graph:"
   ]
  },
  {
   "cell_type": "code",
   "execution_count": 15,
   "metadata": {
    "id": "3ytrDuE-5ytP"
   },
   "outputs": [
    {
     "name": "stdout",
     "output_type": "stream",
     "text": [
      "--- Above Average Movies ---\n",
      "Movie: 12 Angry Men, Rating: 9.0\n",
      "Movie: The Dark Knight, Rating: 9.0\n",
      "Movie: The Godfather: Part II, Rating: 9.0\n",
      "Movie: 12 Years a Slave, Rating: 8.1\n",
      "Movie: Ace in the Hole, Rating: 8.1\n",
      "Movie: Ah-ga-ssi, Rating: 8.1\n",
      "Movie: Amores perros, Rating: 8.1\n",
      "Movie: Before Sunrise, Rating: 8.1\n",
      "Movie: Before Sunset, Rating: 8.1\n",
      "Movie: Ben-Hur, Rating: 8.1\n"
     ]
    }
   ],
   "source": [
    "q_7 = \"\"\"\n",
    "PREFIX movies: <http://example.org/movies/>\n",
    "\n",
    "SELECT ?title ?rating\n",
    "WHERE {\n",
    "  ?movie movies:hasTitle ?title ;\n",
    "         movies:hasImdbRating ?rating .\n",
    "\n",
    "  # Subquery here\n",
    "  { SELECT (AVG(?r) AS ?overallAverageRating)\n",
    "    WHERE {\n",
    "      ?m movies:hasImdbRating ?r .\n",
    "    }\n",
    "  }\n",
    "\n",
    "  FILTER( ?rating > ?overallAverageRating )\n",
    "} LIMIT 10\n",
    "\"\"\"\n",
    "\n",
    "print(\"--- Above Average Movies ---\")\n",
    "for row in g.query(q_7):\n",
    "    print(f\"Movie: {row.title}, Rating: {row.rating}\")"
   ]
  },
  {
   "cell_type": "markdown",
   "metadata": {
    "id": "isPmAqUe688Z"
   },
   "source": [
    "\n",
    "\n",
    "---\n",
    "\n",
    "\n",
    "## **Exercise 2:** Finding Similar Entities with Nested Queries\n",
    "This is it! All we have learned so far cultivates into this complex query.We will find actors who have similar accomplishments to \"Tom Hanks\". Our similarity based on career statistics: actors whose average movie rating is within 0.2 points of Tom Hanks's average, and who have a movie count within 1 movie of his total.\n",
    "\n",
    "Follow the steps below to complete the query and run it:\n",
    "\n",
    "1.   Calculate average rating and movie counts for all actors in the first subquery.\n",
    "2.   Get the same stats for Tom Hanks in the second subquery.\n",
    "3.   Apply conditional filtering based on our similarity conditions."
   ]
  },
  {
   "cell_type": "code",
   "execution_count": 21,
   "metadata": {
    "id": "gqIUgZFU8CAJ"
   },
   "outputs": [
    {
     "name": "stdout",
     "output_type": "stream",
     "text": [
      "--- Similar Careers to Tom Hanks ---\n",
      "Actor: Al Pacino | Avg Rating: 8.08 | Movie Count: 13\n",
      "Actor: Tom Hanks | Avg Rating: 8.04 | Movie Count: 14\n"
     ]
    }
   ],
   "source": [
    "q_8 = \"\"\"\n",
    "PREFIX movies: <http://example.org/movies/>\n",
    "\n",
    "SELECT ?actorName ?avgRating ?movieCount\n",
    "WHERE {\n",
    "  # Subquery 1: Get rating and movie count for all actors\n",
    "  {\n",
    "    SELECT ?actorName (AVG(?rt) AS ?avgRating) (COUNT(?movieTitle) AS ?movieCount)\n",
    "    WHERE {\n",
    "      ?actor movies:hasName ?actorName .\n",
    "      ?movie movies:hasActor ?actor ;\n",
    "             movies:hasImdbRating ?rt ;\n",
    "             movies:hasTitle ?movieTitle .\n",
    "    }\n",
    "    GROUP BY ?actorName\n",
    "  }\n",
    "\n",
    "  # Subquery 2: Get stats for Tom Hanks\n",
    "  {\n",
    "    SELECT (AVG(?rt_th) AS ?avgRatingTH) (COUNT(?movieTitleTH) AS ?movieCountTH)\n",
    "    WHERE {\n",
    "      ?actorTH movies:hasName \"Tom Hanks\" .\n",
    "      ?movieTH movies:hasActor ?actorTH ;\n",
    "               movies:hasImdbRating ?rt_th ;\n",
    "               movies:hasTitle ?movieTitleTH .\n",
    "    }\n",
    "  }\n",
    "\n",
    "  # Apply filtering based on similarity\n",
    "  FILTER (\n",
    "    ABS(?avgRating - ?avgRatingTH) <= 0.2 &&\n",
    "    ABS(?movieCount - ?movieCountTH) <= 1\n",
    "  )\n",
    "}\n",
    "ORDER BY DESC(?avgRating)\n",
    "\"\"\"\n",
    "\n",
    "\n",
    "print(\"--- Similar Careers to Tom Hanks ---\")\n",
    "for row in g.query(q_8):\n",
    "    print(f\"Actor: {row.actorName} | Avg Rating: {round(float(row.avgRating), 2)} | Movie Count: {row.movieCount}\")\n"
   ]
  },
  {
   "cell_type": "markdown",
   "metadata": {
    "id": "HJOXwS9X9fUy"
   },
   "source": [
    "This exercise shows how powerful `SPARQL` queries can be. Also, notice that the query took a while to compute since the complexity is higher than any example we have seen before.\n",
    "\n",
    "\n",
    "---\n",
    "\n",
    "\n",
    "## [OPTIONAL] **Part 5:** Extracting Subgraphs with `CONSTRUCT`\n",
    "\n",
    "So far, all our queries have used `SELECT`, which returns a table of results. `SPARQL` has other query forms, and one of the most powerful is `CONSTRUCT`. Instead of a table, a `CONSTRUCT` query returns a new RDF graph. You can simplify your data by excluding certian elements, or create a subgraph including a specific subset of your data.\n",
    "\n",
    "Let's create a subgraph, containing only Sci-Fi genre movies, but only including their director and title information:"
   ]
  },
  {
   "cell_type": "code",
   "execution_count": 22,
   "metadata": {
    "id": "3OjC-iI9AUz7"
   },
   "outputs": [
    {
     "name": "stdout",
     "output_type": "stream",
     "text": [
      "The result is a: <class 'rdflib.graph.Graph'>\n",
      "The new subgraph has 150 triples.\n",
      "\n",
      "--- Sci-Fi Movies Subgraph ---\n",
      "@prefix ns1: <http://example.org/movies/> .\n",
      "\n",
      "ns1:2001ASpaceOdyssey ns1:hasDirector ns1:StanleyKubrick ;\n",
      "    ns1:hasTitle \"2001: A Space Odyssey\" .\n",
      "\n",
      "ns1:28DaysLater ns1:hasDirector ns1:DannyBoyle ;\n",
      "    ns1:hasTitle \"28 Days Later...\" .\n",
      "\n",
      "ns1:AClockworkOrange ns1:hasDirector ns1:StanleyKubrick ;\n",
      "    ns1:hasTitle \"A Clockwork Orange\" .\n",
      "\n",
      "ns1:Alien ns1:hasDirector ns1:RidleyScott ;\n",
      "    ns1:hasTitle \"Alien\" .\n",
      "\n",
      "ns1:Aliens ns1:hasDirector ns1:JamesCameron ;\n",
      "    ns1:hasTitle \"Aliens\" .\n",
      "\n",
      "ns1:Arrival ns1:hasDirector ns1:DenisVilleneuve ;\n",
      "    ns1:hasTitle \"Arrival\" .\n",
      "\n",
      "ns1:AvengersInfinityWar ns1:hasDirector ns1:AnthonyRusso ;\n",
      "    ns1:hasTitle \"Avengers: Infinity War\" .\n",
      "\n",
      "ns1:BacktotheFuture ns1:hasDirector ns1:RobertZemeckis ;\n",
      "    ns1:hasTitle \"Back to the Future\" .\n",
      "\n",
      "ns1:BacktotheFuturePartII ns1:hasDirector ns1:RobertZemeckis ;\n",
      "    ns1:hasTitle \"Back to the Future Part II\" .\n",
      "\n",
      "ns1:BladeRunner ns1:hasDirector ns1:RidleyScott ;\n",
      "    ns1:hasTitle \"Blade Runner\" .\n",
      "\n",
      "ns1:Brazil ns1:hasDirector ns1:TerryGilliam ;\n",
      "    ns1:hasTitle \"Brazil\" .\n",
      "\n",
      "ns1:CaptainAmericaCivilWar ns1:hasDirector ns1:AnthonyRusso ;\n",
      "    ns1:hasTitle \"Captain America: Civil War\" .\n",
      "\n",
      "ns1:CaptainAmericaTheWinterSoldier ns1:hasDirector ns1:AnthonyRusso ;\n",
      "    ns1:hasTitle \"Captain America: The Winter Soldier\" .\n",
      "\n",
      "ns1:ChildrenofMen ns1:hasDirector ns1:AlfonsoCuarón ;\n",
      "    ns1:hasTitle \"Children of Men\" .\n",
      "\n",
      "ns1:CloseEncountersoftheThirdKind ns1:hasDirector ns1:StevenSpielberg ;\n",
      "    ns1:hasTitle \"Close Encounters of the Third Kind\" .\n",
      "\n",
      "ns1:DarkCity ns1:hasDirector ns1:AlexProyas ;\n",
      "    ns1:hasTitle \"Dark City\" .\n",
      "\n",
      "ns1:District9 ns1:hasDirector ns1:NeillBlomkamp ;\n",
      "    ns1:hasTitle \"District 9\" .\n",
      "\n",
      "ns1:DonnieDarko ns1:hasDirector ns1:RichardKelly ;\n",
      "    ns1:hasTitle \"Donnie Darko\" .\n",
      "\n",
      "ns1:ETtheExtraTerrestrial ns1:hasDirector ns1:StevenSpielberg ;\n",
      "    ns1:hasTitle \"E.T. the Extra-Terrestrial\" .\n",
      "\n",
      "ns1:EdgeofTomorrow ns1:hasDirector ns1:DougLiman ;\n",
      "    ns1:hasTitle \"Edge of Tomorrow\" .\n",
      "\n",
      "ns1:EternalSunshineoftheSpotlessMind ns1:hasDirector ns1:MichelGondry ;\n",
      "    ns1:hasTitle \"Eternal Sunshine of the Spotless Mind\" .\n",
      "\n",
      "ns1:ExMachina ns1:hasDirector ns1:AlexGarland ;\n",
      "    ns1:hasTitle \"Ex Machina\" .\n",
      "\n",
      "ns1:Gattaca ns1:hasDirector ns1:AndrewNiccol ;\n",
      "    ns1:hasTitle \"Gattaca\" .\n",
      "\n",
      "ns1:Gravity ns1:hasDirector ns1:AlfonsoCuarón ;\n",
      "    ns1:hasTitle \"Gravity\" .\n",
      "\n",
      "ns1:Her ns1:hasDirector ns1:SpikeJonze ;\n",
      "    ns1:hasTitle \"Her\" .\n",
      "\n",
      "ns1:Inception ns1:hasDirector ns1:ChristopherNolan ;\n",
      "    ns1:hasTitle \"Inception\" .\n",
      "\n",
      "ns1:Interstellar ns1:hasDirector ns1:ChristopherNolan ;\n",
      "    ns1:hasTitle \"Interstellar\" .\n",
      "\n",
      "ns1:IronMan ns1:hasDirector ns1:JonFavreau ;\n",
      "    ns1:hasTitle \"Iron Man\" .\n",
      "\n",
      "ns1:JurassicPark ns1:hasDirector ns1:StevenSpielberg ;\n",
      "    ns1:hasTitle \"Jurassic Park\" .\n",
      "\n",
      "ns1:KingKong ns1:hasDirector ns1:MerianCCooper ;\n",
      "    ns1:hasTitle \"King Kong\" .\n",
      "\n",
      "ns1:Laplanètesauvage ns1:hasDirector ns1:RenéLaloux ;\n",
      "    ns1:hasTitle \"La planète sauvage\" .\n",
      "\n",
      "ns1:Logan ns1:hasDirector ns1:JamesMangold ;\n",
      "    ns1:hasTitle \"Logan\" .\n",
      "\n",
      "ns1:MadMax2 ns1:hasDirector ns1:GeorgeMiller ;\n",
      "    ns1:hasTitle \"Mad Max 2\" .\n",
      "\n",
      "ns1:MadMaxFuryRoad ns1:hasDirector ns1:GeorgeMiller ;\n",
      "    ns1:hasTitle \"Mad Max: Fury Road\" .\n",
      "\n",
      "ns1:Moon ns1:hasDirector ns1:DuncanJones ;\n",
      "    ns1:hasTitle \"Moon\" .\n",
      "\n",
      "ns1:PlanetoftheApes ns1:hasDirector ns1:FranklinJSchaffner ;\n",
      "    ns1:hasTitle \"Planet of the Apes\" .\n",
      "\n",
      "ns1:Predator ns1:hasDirector ns1:JohnMcTiernan ;\n",
      "    ns1:hasTitle \"Predator\" .\n",
      "\n",
      "ns1:RogueOne ns1:hasDirector ns1:GarethEdwards ;\n",
      "    ns1:hasTitle \"Rogue One\" .\n",
      "\n",
      "ns1:Serenity ns1:hasDirector ns1:JossWhedon ;\n",
      "    ns1:hasTitle \"Serenity\" .\n",
      "\n",
      "ns1:StarTrek ns1:hasDirector ns1:JJAbrams ;\n",
      "    ns1:hasTitle \"Star Trek\" .\n",
      "\n",
      "ns1:StarTrekIITheWrathofKhan ns1:hasDirector ns1:NicholasMeyer ;\n",
      "    ns1:hasTitle \"Star Trek II: The Wrath of Khan\" .\n",
      "\n",
      "ns1:StarTrekIntoDarkness ns1:hasDirector ns1:JJAbrams ;\n",
      "    ns1:hasTitle \"Star Trek Into Darkness\" .\n",
      "\n",
      "ns1:StarWarsEpisodeVIITheForceAwakens ns1:hasDirector ns1:JJAbrams ;\n",
      "    ns1:hasTitle \"Star Wars: Episode VII - The Force Awakens\" .\n",
      "\n",
      "ns1:Terminator2JudgmentDay ns1:hasDirector ns1:JamesCameron ;\n",
      "    ns1:hasTitle \"Terminator 2: Judgment Day\" .\n",
      "\n",
      "ns1:TheAvengers ns1:hasDirector ns1:JossWhedon ;\n",
      "    ns1:hasTitle \"The Avengers\" .\n",
      "\n",
      "ns1:TheButterflyEffect ns1:hasDirector ns1:EricBress ;\n",
      "    ns1:hasTitle \"The Butterfly Effect\" .\n",
      "\n",
      "ns1:TheFifthElement ns1:hasDirector ns1:LucBesson ;\n",
      "    ns1:hasTitle \"The Fifth Element\" .\n",
      "\n",
      "ns1:TheMartian ns1:hasDirector ns1:RidleyScott ;\n",
      "    ns1:hasTitle \"The Martian\" .\n",
      "\n",
      "ns1:TheMatrix ns1:hasDirector ns1:LanaWachowski ;\n",
      "    ns1:hasTitle \"The Matrix\" .\n",
      "\n",
      "ns1:ThePrestige ns1:hasDirector ns1:ChristopherNolan ;\n",
      "    ns1:hasTitle \"The Prestige\" .\n",
      "\n",
      "ns1:TheTerminator ns1:hasDirector ns1:JamesCameron ;\n",
      "    ns1:hasTitle \"The Terminator\" .\n",
      "\n",
      "ns1:TheThing ns1:hasDirector ns1:JohnCarpenter ;\n",
      "    ns1:hasTitle \"The Thing\" .\n",
      "\n",
      "ns1:TwelveMonkeys ns1:hasDirector ns1:TerryGilliam ;\n",
      "    ns1:hasTitle \"Twelve Monkeys\" .\n",
      "\n",
      "ns1:VforVendetta ns1:hasDirector ns1:JamesMcTeigue ;\n",
      "    ns1:hasTitle \"V for Vendetta\" .\n",
      "\n",
      "ns1:XFirstClass ns1:hasDirector ns1:MatthewVaughn ;\n",
      "    ns1:hasTitle \"X: First Class\" .\n",
      "\n",
      "ns1:XMenDaysofFuturePast ns1:hasDirector ns1:BryanSinger ;\n",
      "    ns1:hasTitle \"X-Men: Days of Future Past\" .\n",
      "\n",
      "ns1:AlexGarland ns1:hasName \"Alex Garland\" .\n",
      "\n",
      "ns1:AlexProyas ns1:hasName \"Alex Proyas\" .\n",
      "\n",
      "ns1:AndrewNiccol ns1:hasName \"Andrew Niccol\" .\n",
      "\n",
      "ns1:BryanSinger ns1:hasName \"Bryan Singer\" .\n",
      "\n",
      "ns1:DannyBoyle ns1:hasName \"Danny Boyle\" .\n",
      "\n",
      "ns1:DenisVilleneuve ns1:hasName \"Denis Villeneuve\" .\n",
      "\n",
      "ns1:DougLiman ns1:hasName \"Doug Liman\" .\n",
      "\n",
      "ns1:DuncanJones ns1:hasName \"Duncan Jones\" .\n",
      "\n",
      "ns1:EricBress ns1:hasName \"Eric Bress\" .\n",
      "\n",
      "ns1:FranklinJSchaffner ns1:hasName \"Franklin J. Schaffner\" .\n",
      "\n",
      "ns1:GarethEdwards ns1:hasName \"Gareth Edwards\" .\n",
      "\n",
      "ns1:JamesMangold ns1:hasName \"James Mangold\" .\n",
      "\n",
      "ns1:JamesMcTeigue ns1:hasName \"James McTeigue\" .\n",
      "\n",
      "ns1:JohnCarpenter ns1:hasName \"John Carpenter\" .\n",
      "\n",
      "ns1:JohnMcTiernan ns1:hasName \"John McTiernan\" .\n",
      "\n",
      "ns1:JonFavreau ns1:hasName \"Jon Favreau\" .\n",
      "\n",
      "ns1:LanaWachowski ns1:hasName \"Lana Wachowski\" .\n",
      "\n",
      "ns1:LucBesson ns1:hasName \"Luc Besson\" .\n",
      "\n",
      "ns1:MatthewVaughn ns1:hasName \"Matthew Vaughn\" .\n",
      "\n",
      "ns1:MerianCCooper ns1:hasName \"Merian C. Cooper\" .\n",
      "\n",
      "ns1:MichelGondry ns1:hasName \"Michel Gondry\" .\n",
      "\n",
      "ns1:NeillBlomkamp ns1:hasName \"Neill Blomkamp\" .\n",
      "\n",
      "ns1:NicholasMeyer ns1:hasName \"Nicholas Meyer\" .\n",
      "\n",
      "ns1:RenéLaloux ns1:hasName \"René Laloux\" .\n",
      "\n",
      "ns1:RichardKelly ns1:hasName \"Richard Kelly\" .\n",
      "\n",
      "ns1:SpikeJonze ns1:hasName \"Spike Jonze\" .\n",
      "\n",
      "ns1:AlfonsoCuarón ns1:hasName \"Alfonso Cuarón\" .\n",
      "\n",
      "ns1:GeorgeMiller ns1:hasName \"George Miller\" .\n",
      "\n",
      "ns1:JossWhedon ns1:hasName \"Joss Whedon\" .\n",
      "\n",
      "ns1:RobertZemeckis ns1:hasName \"Robert Zemeckis\" .\n",
      "\n",
      "ns1:StanleyKubrick ns1:hasName \"Stanley Kubrick\" .\n",
      "\n",
      "ns1:TerryGilliam ns1:hasName \"Terry Gilliam\" .\n",
      "\n",
      "ns1:AnthonyRusso ns1:hasName \"Anthony Russo\" .\n",
      "\n",
      "ns1:ChristopherNolan ns1:hasName \"Christopher Nolan\" .\n",
      "\n",
      "ns1:JJAbrams ns1:hasName \"J.J. Abrams\" .\n",
      "\n",
      "ns1:JamesCameron ns1:hasName \"James Cameron\" .\n",
      "\n",
      "ns1:RidleyScott ns1:hasName \"Ridley Scott\" .\n",
      "\n",
      "ns1:StevenSpielberg ns1:hasName \"Steven Spielberg\" .\n",
      "\n",
      "\n"
     ]
    }
   ],
   "source": [
    "q_9 = \"\"\"\n",
    "PREFIX movies: <http://example.org/movies/>\n",
    "\n",
    "CONSTRUCT { # template for our new graph\n",
    "    ?movieURI movies:hasTitle ?title ;\n",
    "              movies:hasGenre ?genreURI ;\n",
    "              movies:hasDirector ?directorURI .\n",
    "\n",
    "    ?directorURI movies:hasName ?directorName .\n",
    "}\n",
    "WHERE { # this is where we filter for Sci-Fi movies\n",
    "\n",
    "    ?movieURI movies:hasGenre \"Sci-Fi\" ;\n",
    "              movies:hasTitle ?title ;\n",
    "              movies:hasDirector ?directorURI .\n",
    "\n",
    "    ?directorURI movies:hasName ?directorName .\n",
    "}\n",
    "\"\"\"\n",
    "\n",
    "# The result of a CONSTRUCT query is a new rdflib Graph object\n",
    "scifi_subgraph_result = g.query(q_9)\n",
    "scifi_graph = scifi_subgraph_result.graph\n",
    "\n",
    "# We can check its type and size\n",
    "print(f\"The result is a: {type(scifi_graph)}\")\n",
    "print(f\"The new subgraph has {len(scifi_graph)} triples.\")\n",
    "\n",
    "# Let's print the new graph in Turtle format to see the result\n",
    "print(\"\\n--- Sci-Fi Movies Subgraph ---\")\n",
    "print(scifi_graph.serialize(format=\"turtle\"))"
   ]
  },
  {
   "cell_type": "markdown",
   "metadata": {
    "id": "EYdSM0zwBJFr"
   },
   "source": [
    "\n",
    "\n",
    "---\n",
    "\n",
    "\n",
    "## [OPTIONAL] **Part 6:** Federated Queries with `SERVICE` or `SPARQLWrapper`\n",
    "\n",
    "Our graph is powerful, but instances are isolated within the dataset. The true power of the Semantic Web comes from connecting our data to higher level concepts in external schemas. A federated query is a query that retrieves data from more than one knowledge graph at the same time.\n",
    "\n",
    "In `SPARQL`, we do this with the `SERVICE` keyword. You provide the URL of an external `SPARQL` endpoint, and the query inside the `SERVICE` block will be executed on that remote server.\n",
    "\n",
    "By using this, we will be able to enrich our local data. We can find an entity in a graoh and use a massive public knowledge base like Wikidata to pull in additional facts that we don't have.\n",
    "\n",
    "Here is an example, querying Wikidata to retrieve facts about the director \"Christopher Nolan\":\n",
    "\n",
    "\n",
    "```sparql\n",
    "PREFIX movies: <http://example.org/movies/>\n",
    "PREFIX rdfs: <http://www.w3.org/2000/01/rdf-schema#>\n",
    "PREFIX wdt: <http://www.wikidata.org/prop/direct/> # Wikidata namespace\n",
    "\n",
    "SELECT ?directorName ?dateOfBirth\n",
    "WHERE {\n",
    "\n",
    "    ?director movies:hasName ?directorName .\n",
    "    FILTER(CONTAINS(?directorName, \"Christopher Nolan\"))\n",
    "\n",
    "    # Query the Wikidata endpoint\n",
    "    SERVICE <https://query.wikidata.org/sparql> {\n",
    "        ?person rdfs:label ?directorName .\n",
    "\n",
    "        # Get their date of birth (property P569 in Wikidata).\n",
    "        ?person wdt:P569 ?dateOfBirth .\n",
    "\n",
    "        FILTER( LANG(?directorName) = \"en\" )\n",
    "    }\n",
    "}\n",
    "LIMIT 1\n",
    "```\n",
    "This query will not return anything since `rdflib` is not able to request information from external sites. There are other tools such as Virtuoso or Apache Jena Fuseki that would support the `SERVICE` functionality. Instead we can retrieve information from our local graph, then use the `SPARQLWrapper` library to write external queries. Let's find the birtdate of first 25 directors:"
   ]
  },
  {
   "cell_type": "code",
   "execution_count": 23,
   "metadata": {
    "id": "QsIjhboRGWGb"
   },
   "outputs": [
    {
     "name": "stdout",
     "output_type": "stream",
     "text": [
      "Director: Aaron Eckhart, DOB: 1968-03-12T00:00:00Z\n",
      "Director: Aaron Taylor-Johnson, DOB: 1990-06-13T00:00:00Z\n",
      "Director: Abdellatif Kechiche, DOB: 1960-12-07T00:00:00Z\n",
      "Director: Abhishek Kapoor, DOB: 1971-08-06T00:00:00Z\n",
      "Director: Abigail Breslin, DOB: 1996-04-14T00:00:00Z\n",
      "Director: Adam Baldwin, DOB: 1962-02-27T00:00:00Z\n",
      "Director: Adam Driver, DOB: 1983-11-19T00:00:00Z\n",
      "Director: Adam McKay, DOB: 1968-04-17T00:00:00Z\n",
      "Director: Adel Bencherif, DOB: 1975-05-30T00:00:00Z\n",
      "An error occurred for Adil Hussain: HTTP Error 429: Too Many Requests\n",
      "An error occurred for Adrian Molina: HTTP Error 429: Too Many Requests\n",
      "Director: Adèle Exarchopoulos, DOB: 1993-11-22T00:00:00Z\n",
      "Director: Adèle Haenel, DOB: 1989-02-11T00:00:00Z\n",
      "Director: Agnes Moorehead, DOB: 1900-12-06T00:00:00Z\n",
      "Director: Ahna Capri, DOB: 1944-07-06T00:00:00Z\n",
      "Director: Ahney Her, DOB: 1992-07-13T00:00:00Z\n",
      "Director: Aidan Gillen, DOB: 1968-04-24T00:00:00Z\n",
      "Director: Aitana Sánchez-Gijón, DOB: 1968-11-05T00:00:00Z\n",
      "Director: Ajay Naidu, DOB: 1972-02-12T00:00:00Z\n",
      "Director: Akihiro Miwa, DOB: 1935-05-15T00:00:00Z\n",
      "Director: Akio Ôtsuka, DOB: None\n",
      "Director: Akira Terao, DOB: 1947-05-18T00:00:00Z\n",
      "Director: Alakina Mann, DOB: 1990-08-01T00:00:00Z\n",
      "Director: Alan Alda, DOB: 1936-01-28T00:00:00Z\n",
      "Director: Alan Badel, DOB: 1923-09-11T00:00:00Z\n"
     ]
    }
   ],
   "source": [
    "# Install the library and import useful functions\n",
    "!pip3 install SPARQLWrapper -U -q\n",
    "from SPARQLWrapper import SPARQLWrapper, JSON\n",
    "\n",
    "# Setup connection to the Wikidata\n",
    "sparql = SPARQLWrapper(\"https://query.wikidata.org/sparql\")\n",
    "sparql.setReturnFormat(JSON)\n",
    "\n",
    "# Get the first 25 director names\n",
    "q_10 = \"\"\"\n",
    "PREFIX movies: <http://example.org/movies/>\n",
    "\n",
    "SELECT DISTINCT ?directorName\n",
    "WHERE {\n",
    "  ?d movies:hasName ?directorName .\n",
    "} LIMIT 25\n",
    "\"\"\"\n",
    "local_results = g.query(q_10)\n",
    "\n",
    "\n",
    "# Iterate through names and get birth dates for each one\n",
    "for row in local_results:\n",
    "  director_name = str(row.directorName)\n",
    "\n",
    "  # Note: We constrain the search to humans (wd:Q5) to get more accurate results.\n",
    "  remote_query = f\"\"\"\n",
    "  PREFIX wdt: <http://www.wikidata.org/prop/direct/>\n",
    "  PREFIX wd: <http://www.wikidata.org/entity/>\n",
    "  PREFIX rdfs: <http://www.w3.org/2000/01/rdf-schema#>\n",
    "\n",
    "  SELECT ?dateOfBirth\n",
    "  WHERE {{\n",
    "    ?person wdt:P31 wd:Q5 ; # assure that the entity is a human\n",
    "            rdfs:label \"{director_name}\"@en ;\n",
    "            wdt:P569 ?dateOfBirth .\n",
    "  }} LIMIT 1\n",
    "  \"\"\"\n",
    "  sparql.setQuery(remote_query)\n",
    "\n",
    "  try:\n",
    "    # execute\n",
    "    results = sparql.query().convert()\n",
    "    bindings = results[\"results\"][\"bindings\"]\n",
    "\n",
    "    if bindings:\n",
    "      dob = bindings[0][\"dateOfBirth\"][\"value\"]\n",
    "      print(f\"Director: {director_name}, DOB: {dob}\")\n",
    "\n",
    "    else: # in case director is not on Wikidata\n",
    "      print(f\"Director: {director_name}, DOB: {None}\")\n",
    "\n",
    "  except Exception as e: # catch any errors\n",
    "    print(f\"An error occurred for {director_name}: {e}\")"
   ]
  },
  {
   "cell_type": "markdown",
   "metadata": {
    "id": "LSUXJ4vLNx7W"
   },
   "source": [
    "You can also use query Wikidata online by visiting this URL: https://query.wikidata.org/\n",
    "\n",
    "<ins>**Note:**</ins> Observe that we used the `DISTINCT` functionality in our local query to return unique insrances, which may occur on less structured graphs. Our graph contains a unique URI for each director, so duplicates are avoided altogether.\n",
    "\n"
   ]
  }
 ],
 "metadata": {
  "colab": {
   "authorship_tag": "ABX9TyPh8CeA+BEoZoJLc3kH5amR",
   "provenance": []
  },
  "kernelspec": {
   "display_name": "Python 3",
   "name": "python3"
  },
  "language_info": {
   "codemirror_mode": {
    "name": "ipython",
    "version": 3
   },
   "file_extension": ".py",
   "mimetype": "text/x-python",
   "name": "python",
   "nbconvert_exporter": "python",
   "pygments_lexer": "ipython3",
   "version": "3.9.7"
  }
 },
 "nbformat": 4,
 "nbformat_minor": 0
}
