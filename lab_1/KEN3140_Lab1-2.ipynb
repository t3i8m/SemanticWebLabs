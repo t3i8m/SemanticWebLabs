{
 "cells": [
  {
   "cell_type": "markdown",
   "metadata": {
    "id": "01DxC8-hCY6a"
   },
   "source": [
    "# Lab 1.2: Building RDF Schemas with ```rdflib```\n",
    "\n",
    "**Learning Outcomes:**\n",
    "\n",
    "*   Define RDF classes and properties programmatically using ```rdflib```.\n",
    "*   Construct class hierarchies using ```rdfs:subClassOf```.\n",
    "*   Integrate terms from existing vocabularies like [Schema.org](https://schema.org/).\n",
    "*   Apply rules to properties using ```rdfs:domain``` and ```rdfs:range```.\n",
    "*   Serialize a complete RDF schema to ```TURTLE``` (.ttl) format, export it to Protégé.\n",
    "\n",
    "## RDF Concepts in Action\n",
    "In Lab 1, we learned that RDF is a data model for representing information as linked data. The fundamental unit is the triple:\n",
    "\n",
    "<center>\n",
    "<code>&lt;subject&gt; &lt;predicate&gt; &lt;object&gt;</code> <br>\n",
    "OR <br>\n",
    "<code>&lt;head&gt; &lt;relation&gt; &lt;tail&gt;</code> <br>\n",
    "OR <br>\n",
    "<code>&lt;resource&gt; &lt;property&gt; &lt;resource&gt;</code> <br>\n",
    "</center>\n",
    "\n",
    "where their types are commonly;\n",
    "\n",
    "*   **Subject:** URI, Blank Node\n",
    "*   **Predicate:** URI\n",
    "*   **Object:** URI, Blank Node, Literal\n",
    "\n",
    "\n",
    "Now let's realize the statements from Lab 1 with ```rdflib```.\n"
   ]
  },
  {
   "cell_type": "markdown",
   "metadata": {
    "id": "yNOireLrR_rd"
   },
   "source": [
    "\n",
    "\n",
    "---\n",
    "\n",
    "### **Step 1:** Installing ```rdflib``` and importing useful methods"
   ]
  },
  {
   "cell_type": "code",
   "execution_count": 1,
   "metadata": {
    "colab": {
     "base_uri": "https://localhost:8080/"
    },
    "executionInfo": {
     "elapsed": 6563,
     "status": "ok",
     "timestamp": 1756901580492,
     "user": {
      "displayName": "Ömer Durukan Kılıç",
      "userId": "04622295589848868615"
     },
     "user_tz": -120
    },
    "id": "OI23p5H5_1zX",
    "outputId": "f9b2cf30-4547-4d98-f0e9-de5b53deb7cf"
   },
   "outputs": [
    {
     "name": "stdout",
     "output_type": "stream",
     "text": [
      "Collecting rdflib\n",
      "  Using cached rdflib-7.1.4-py3-none-any.whl.metadata (11 kB)\n",
      "Collecting isodate<1.0.0,>=0.7.2 (from rdflib)\n",
      "  Using cached isodate-0.7.2-py3-none-any.whl.metadata (11 kB)\n",
      "Requirement already satisfied: pyparsing<4,>=2.1.0 in c:\\users\\timur\\appdata\\local\\packages\\pythonsoftwarefoundation.python.3.9_qbz5n2kfra8p0\\localcache\\local-packages\\python39\\site-packages (from rdflib) (2.4.7)\n",
      "Using cached rdflib-7.1.4-py3-none-any.whl (565 kB)\n",
      "Using cached isodate-0.7.2-py3-none-any.whl (22 kB)\n",
      "Installing collected packages: isodate, rdflib\n",
      "Successfully installed isodate-0.7.2 rdflib-7.1.4\n"
     ]
    },
    {
     "name": "stderr",
     "output_type": "stream",
     "text": [
      "\n",
      "[notice] A new release of pip is available: 25.0.1 -> 25.2\n",
      "[notice] To update, run: C:\\Users\\Timur\\AppData\\Local\\Microsoft\\WindowsApps\\PythonSoftwareFoundation.Python.3.9_qbz5n2kfra8p0\\python.exe -m pip install --upgrade pip\n"
     ]
    }
   ],
   "source": [
    "!pip3 install rdflib -U\n",
    "\n",
    "from rdflib import Graph, URIRef, Literal, BNode, Namespace\n",
    "from rdflib.namespace import RDF, RDFS, XSD, SDO"
   ]
  },
  {
   "cell_type": "markdown",
   "metadata": {
    "id": "BRr_tF5kSVvu"
   },
   "source": [
    "Methods:\n",
    "\n",
    "- ***Graph:*** The main object we will be adding triples to.\n",
    "\n",
    "- ***URIRef:*** A **Uniform Resource Identifier**. They are used as unique, global identifiers for subjects, predicates, objects. Consists of a **namesapece** followed by the **resource name**.\n",
    "\n",
    "- ***Literal:*** For actual values as objects, like a name or a number.\n",
    "\n",
    "- ***BNode:*** For blank nodes (resources **without a URI**).\n",
    "\n",
    "- ***Namespace:*** Function used to define new namespaces.\n",
    "\n",
    "- ***RDF, RDFS, XSD, SDO:*** Generally useful namespaces while building RDF schemas.\n",
    "\n",
    "\n",
    "---\n",
    "\n",
    "\n",
    "### **Step 2:** Initializing ```Graph()``` and adding example statements"
   ]
  },
  {
   "cell_type": "code",
   "execution_count": 2,
   "metadata": {
    "colab": {
     "base_uri": "https://localhost:8080/"
    },
    "collapsed": true,
    "executionInfo": {
     "elapsed": 47,
     "status": "ok",
     "timestamp": 1756903126415,
     "user": {
      "displayName": "Ömer Durukan Kılıç",
      "userId": "04622295589848868615"
     },
     "user_tz": -120
    },
    "id": "JTTRtZO5S31d",
    "outputId": "3e1b0dc7-e251-4635-c194-bf3a585057aa"
   },
   "outputs": [
    {
     "name": "stdout",
     "output_type": "stream",
     "text": [
      "@prefix ns1: <http://example.org/lotr/> .\n",
      "\n",
      "ns1:Frodo ns1:hasFriend ns1:Gandalf ;\n",
      "    ns1:isBearerOf ns1:OneRing .\n",
      "\n",
      "ns1:Gandalf ns1:isEnemyOf ns1:Sauron .\n",
      "\n",
      "\n"
     ]
    }
   ],
   "source": [
    "# Create a Graph to store our triples\n",
    "g = Graph()\n",
    "\n",
    "# Define the resources\n",
    "frodo = URIRef(\"http://example.org/lotr/Frodo\")\n",
    "gandalf = URIRef(\"http://example.org/lotr/Gandalf\")\n",
    "sauron = URIRef(\"http://example.org/lotr/Sauron\")\n",
    "oneRing = URIRef(\"http://example.org/lotr/OneRing\")\n",
    "\n",
    "# Define the properties\n",
    "hasFriend = URIRef(\"http://example.org/lotr/hasFriend\")\n",
    "isBearerOf = URIRef(\"http://example.org/lotr/isBearerOf\")\n",
    "isEnemyOf = URIRef(\"http://example.org/lotr/isEnemyOf\")\n",
    "\n",
    "# Add statements\n",
    "g.add((frodo, hasFriend, gandalf)) # Frodo is a friend of Gandalf.\n",
    "g.add((frodo, isBearerOf, oneRing)) # Frodo is the bearer of the One Ring.\n",
    "g.add((gandalf, isEnemyOf, sauron)) # Gandalf is an enemy of Sauron.\n",
    "\n",
    "# Serialize the populated Graph in TURTLE format\n",
    "print(g.serialize(format=\"ttl\"))"
   ]
  },
  {
   "cell_type": "markdown",
   "metadata": {
    "id": "nKkByN1oa3XJ"
   },
   "source": [
    "Observe that ```rdflib``` conveniently adds a designates a generic prefix (ns1) to the namespace used in our Graph ([http://example.org/lotr/](http://example.org/lotr/)). When serialized, the Graph will arrange triples to an RDF schema in our desired format, ```TURTLE``` in this case.\n",
    "\n",
    "\n",
    "---\n",
    "\n",
    "\n",
    "### **Step 3:** Using prefixes\n",
    "\n",
    "Writing the namespaces explicitly becomes tedious as the amount of triples increases. Thus, we can bind our namespaces to prefixes to avoid more work:"
   ]
  },
  {
   "cell_type": "code",
   "execution_count": 4,
   "metadata": {
    "colab": {
     "base_uri": "https://localhost:8080/"
    },
    "executionInfo": {
     "elapsed": 10,
     "status": "ok",
     "timestamp": 1756903264018,
     "user": {
      "displayName": "Ömer Durukan Kılıç",
      "userId": "04622295589848868615"
     },
     "user_tz": -120
    },
    "id": "uo7MRQnEcIPt",
    "outputId": "52c5b207-353f-4fe4-eaa1-793fca7960d5"
   },
   "outputs": [
    {
     "name": "stdout",
     "output_type": "stream",
     "text": [
      "@prefix lotr: <http://example.org/lotr/> .\n",
      "\n",
      "lotr:Frodo lotr:hasFriend lotr:Gandalf ;\n",
      "    lotr:isBearerOf lotr:OneRing .\n",
      "\n",
      "lotr:Gandalf lotr:isEnemyOf lotr:Sauron .\n",
      "\n",
      "\n"
     ]
    }
   ],
   "source": [
    "# Reset the previous Graph\n",
    "g = Graph()\n",
    "\n",
    "# Define namespace\n",
    "LOTR = Namespace(\"http://example.org/lotr/\")\n",
    "\n",
    "# Bind namespace\n",
    "g.bind(\"lotr\", LOTR)\n",
    "\n",
    "# Define the resources\n",
    "frodo = LOTR.Frodo\n",
    "gandalf = LOTR.Gandalf\n",
    "sauron = LOTR.Sauron\n",
    "oneRing = LOTR.OneRing\n",
    "\n",
    "# Define the properties\n",
    "hasFriend = LOTR.hasFriend\n",
    "isBearerOf = LOTR.isBearerOf\n",
    "isEnemyOf = LOTR.isEnemyOf\n",
    "\n",
    "# Add statements\n",
    "g.add((frodo, hasFriend, gandalf)) # Frodo is a friend of Gandalf.\n",
    "g.add((frodo, isBearerOf, oneRing)) # Frodo is the bearer of the One Ring.\n",
    "g.add((gandalf, isEnemyOf, sauron)) # Gandalf is an enemy of Sauron.\n",
    "\n",
    "# Serialize the graph\n",
    "print(g.serialize(format=\"ttl\"))"
   ]
  },
  {
   "cell_type": "markdown",
   "metadata": {
    "id": "BBrrID4hfu4V"
   },
   "source": [
    "The string we bind our namespace to will appear in the Graph. Use prefixes for organized codes as well as increasing interoperability while working with multiple Graphs.\n",
    "\n",
    "\n",
    "---\n",
    "\n",
    "\n",
    "### **Step 4:** Adding literals\n",
    "\n",
    "Literals are exact values related to our subjects. These can be strings, dates, numbers, and more (see [XSD data types](https://www.ibm.com/docs/en/jfsm/1.1.2.1?topic=queries-xsd-data-types)). We can use the ```Literal``` function from ```rdflib``` to add values as object to our Graph. We will use the imported ```XSD``` namespace to define the datatypes."
   ]
  },
  {
   "cell_type": "code",
   "execution_count": 6,
   "metadata": {
    "colab": {
     "base_uri": "https://localhost:8080/"
    },
    "executionInfo": {
     "elapsed": 45,
     "status": "ok",
     "timestamp": 1756903375036,
     "user": {
      "displayName": "Ömer Durukan Kılıç",
      "userId": "04622295589848868615"
     },
     "user_tz": -120
    },
    "id": "fTlIpJkqWPNH",
    "outputId": "25697109-18ae-4ccd-929e-56b5210f7b8d"
   },
   "outputs": [
    {
     "name": "stdout",
     "output_type": "stream",
     "text": [
      "@prefix lotr: <http://example.org/lotr/> .\n",
      "@prefix xsd: <http://www.w3.org/2001/XMLSchema#> .\n",
      "\n",
      "lotr:Frodo lotr:hasAge 33 ;\n",
      "    lotr:hasFriend lotr:Gandalf ;\n",
      "    lotr:isBearerOf lotr:OneRing .\n",
      "\n",
      "lotr:Gandalf lotr:hasTitle \"The White\"^^xsd:string ;\n",
      "    lotr:isEnemyOf lotr:Sauron .\n",
      "\n",
      "lotr:OneRing lotr:hasDestructionDate \"3019-03-25T00:00:00\"^^xsd:dateTime .\n",
      "\n",
      "\n"
     ]
    }
   ],
   "source": [
    "# Defining literals\n",
    "frodoAge = Literal(33, datatype=XSD.integer) # Frodo's age\n",
    "oneRingDestructionDate = Literal(\"3019-03-25T00:00:00\", datatype=XSD.dateTime) # One Ring' destruction date\n",
    "gandalfTitle = Literal(\"The White\", datatype=XSD.string) # Gandalf's title\n",
    "\n",
    "# Define new properties for literals\n",
    "hasAge = LOTR.hasAge\n",
    "hasDestructionDate = LOTR.hasDestructionDate\n",
    "hasTitle = LOTR.hasTitle\n",
    "\n",
    "# Add statements with literals\n",
    "g.add((frodo, hasAge, frodoAge))\n",
    "g.add((oneRing, hasDestructionDate, oneRingDestructionDate))\n",
    "g.add((gandalf, hasTitle, gandalfTitle))\n",
    "\n",
    "# Serialize the graph to see the new triples with literals\n",
    "print(g.serialize(format=\"ttl\"))"
   ]
  },
  {
   "cell_type": "markdown",
   "metadata": {
    "id": "ZhFYjKrigOBv"
   },
   "source": [
    "During serialization, the graph will throw a warning if the literal cannot be converted to its designated datatype.\n",
    "\n",
    "\n",
    "---\n",
    "\n",
    "\n",
    "### **[Optional] Step 5:** Blank Nodes\n"
   ]
  },
  {
   "cell_type": "code",
   "execution_count": 7,
   "metadata": {
    "colab": {
     "base_uri": "https://localhost:8080/"
    },
    "executionInfo": {
     "elapsed": 9,
     "status": "ok",
     "timestamp": 1756903467708,
     "user": {
      "displayName": "Ömer Durukan Kılıç",
      "userId": "04622295589848868615"
     },
     "user_tz": -120
    },
    "id": "6UMW7cxCeEPa",
    "outputId": "8ff5df09-b32e-4af7-bf62-3d05c884def5"
   },
   "outputs": [
    {
     "name": "stdout",
     "output_type": "stream",
     "text": [
      "@prefix lotr: <http://example.org/lotr/> .\n",
      "@prefix xsd: <http://www.w3.org/2001/XMLSchema#> .\n",
      "\n",
      "lotr:Frodo lotr:hasAge 33 ;\n",
      "    lotr:hasFriend lotr:Gandalf ;\n",
      "    lotr:isBearerOf lotr:OneRing .\n",
      "\n",
      "lotr:Gandalf lotr:hasTitle \"The White\"^^xsd:string ;\n",
      "    lotr:isEnemyOf lotr:Sauron .\n",
      "\n",
      "lotr:OneRing lotr:hasDestructionDate \"3019-03-25T00:00:00\"^^xsd:dateTime .\n",
      "\n",
      "[] lotr:hasOutcome \"Frodo escapes\"^^xsd:string ;\n",
      "    lotr:hasParticipant lotr:Frodo,\n",
      "        lotr:Sauron .\n",
      "\n",
      "\n"
     ]
    }
   ],
   "source": [
    "# Define a blank node\n",
    "encounter = BNode() # Represents a specific encounter\n",
    "\n",
    "# Define properties related to the encounter\n",
    "hasParticipant = LOTR.hasParticipant\n",
    "hasOutcome = LOTR.hasOutcome\n",
    "\n",
    "# Add statements involving the blank node\n",
    "g.add((encounter, hasParticipant, frodo)) # The encounter involved Frodo\n",
    "g.add((encounter, hasParticipant, sauron)) # The encounter involved Sauron\n",
    "g.add((encounter, hasOutcome, Literal(\"Frodo escapes\", datatype=XSD.string))) # The outcome was Frodo escaping\n",
    "\n",
    "# Serialize the graph to see the triples including the blank node\n",
    "print(g.serialize(format=\"ttl\"))"
   ]
  },
  {
   "cell_type": "markdown",
   "metadata": {
    "id": "SfSWi47ldLdn"
   },
   "source": [
    "Blank nodes solely used as subject will just be URIs with random IDs. They make more sense when used to bundle data together in a structured way; then linked to a single subject."
   ]
  },
  {
   "cell_type": "code",
   "execution_count": 9,
   "metadata": {
    "colab": {
     "base_uri": "https://localhost:8080/"
    },
    "executionInfo": {
     "elapsed": 8,
     "status": "ok",
     "timestamp": 1756903510334,
     "user": {
      "displayName": "Ömer Durukan Kılıç",
      "userId": "04622295589848868615"
     },
     "user_tz": -120
    },
    "id": "qqgx9VBNhc6f",
    "outputId": "4835426a-b9aa-49b0-8580-96c92adca44c"
   },
   "outputs": [
    {
     "name": "stdout",
     "output_type": "stream",
     "text": [
      "@prefix lotr: <http://example.org/lotr/> .\n",
      "@prefix xsd: <http://www.w3.org/2001/XMLSchema#> .\n",
      "\n",
      "lotr:TheFellowshipOfTheRing lotr:hasEncounter [ lotr:hasOutcome \"Gandalf falls\"^^xsd:string ;\n",
      "            lotr:hasParticipant lotr:Balrog,\n",
      "                lotr:Gandalf ],\n",
      "        [ lotr:hasOutcome \"Gandalf falls\"^^xsd:string ;\n",
      "            lotr:hasParticipant lotr:Balrog,\n",
      "                lotr:Gandalf ],\n",
      "        [ lotr:hasOutcome \"Frodo escapes\"^^xsd:string ;\n",
      "            lotr:hasParticipant lotr:Frodo,\n",
      "                lotr:Sauron ] .\n",
      "\n",
      "lotr:Frodo lotr:hasAge 33 ;\n",
      "    lotr:hasFriend lotr:Gandalf ;\n",
      "    lotr:isBearerOf lotr:OneRing .\n",
      "\n",
      "lotr:OneRing lotr:hasDestructionDate \"3019-03-25T00:00:00\"^^xsd:dateTime .\n",
      "\n",
      "lotr:Gandalf lotr:hasTitle \"The White\"^^xsd:string ;\n",
      "    lotr:isEnemyOf lotr:Sauron .\n",
      "\n",
      "\n"
     ]
    }
   ],
   "source": [
    "# Define a second blank node for another encounter\n",
    "anotherEncounter = BNode() # Represents another specific encounter\n",
    "\n",
    "# Add statements involving the second blank node\n",
    "g.add((anotherEncounter, hasParticipant, gandalf)) # The encounter involved Gandalf\n",
    "g.add((anotherEncounter, hasParticipant, LOTR.Balrog)) # The encounter involved a Balrog (assuming a resource for Balrog exists or is implicitly defined)\n",
    "g.add((anotherEncounter, hasOutcome, Literal(\"Gandalf falls\", datatype=XSD.string))) # The outcome was Gandalf falling\n",
    "\n",
    "# Define a resource for a movie and a property to link movies to encounters\n",
    "theFellowshipOfTheRing = LOTR.TheFellowshipOfTheRing\n",
    "hasEncounter = LOTR.hasEncounter\n",
    "\n",
    "# Link the movie to both encounters\n",
    "g.add((theFellowshipOfTheRing, hasEncounter, encounter))\n",
    "g.add((theFellowshipOfTheRing, hasEncounter, anotherEncounter))\n",
    "\n",
    "\n",
    "# Serialize the graph to see the new triples including the blank nodes and the movie link\n",
    "print(g.serialize(format=\"ttl\"))"
   ]
  },
  {
   "cell_type": "markdown",
   "metadata": {
    "id": "3BA4o8rhiUVp"
   },
   "source": [
    "## Schema-Level Graphs\n",
    "The Graph we just created is instance level. On a higher perspective, we can also build schema level graphs. The main difference is that a schema level graph describes the rules and structure of your data (as a blueprint), while an instance level graph contains the actual data points that follow those rules.\n",
    "\n",
    "Think of these as cooking a meal. Schema level graphs, define the categories of things you need (e.g., flour, sugar, egg) and the rules for how they interact (e.g., \"combine dry ingredients,\" \"bake at 180°C for 30 minutes\"). It's the abstract template. The instance level is the actual, physical food you cook. It's a specific realization of the recipe, with particular ingredients (e.g., all-purpose flour, the specific brown egg you used, granulated sugar) all combined in the instructed way. You can bake many different meals (instances) from the same food's recipe (schema).\n",
    "\n",
    "\n",
    "---\n",
    "\n",
    "\n",
    "### **Step 1:** Setup the Graph and Namespaces"
   ]
  },
  {
   "cell_type": "code",
   "execution_count": 10,
   "metadata": {
    "executionInfo": {
     "elapsed": 41,
     "status": "ok",
     "timestamp": 1756903678097,
     "user": {
      "displayName": "Ömer Durukan Kılıç",
      "userId": "04622295589848868615"
     },
     "user_tz": -120
    },
    "id": "6SRwALg6oSeR"
   },
   "outputs": [],
   "source": [
    "g = Graph()\n",
    "\n",
    "# Define our custom namespace\n",
    "LOTR = Namespace(\"http://example.org/lotr/\")\n",
    "\n",
    "# Bind prefixes, best practice for readable output\n",
    "g.bind(\"lotr\", LOTR)\n",
    "g.bind(\"rdfs\", RDFS)\n",
    "g.bind(\"xsd\", XSD)\n",
    "g.bind(\"schema\", SDO)"
   ]
  },
  {
   "cell_type": "markdown",
   "metadata": {
    "id": "qRAKnTvJyusE"
   },
   "source": [
    "The ```SDO``` namespace corresponds to URI [https://schema.org/](https://schema.org/); a shared vocabulary that contains useful resources and properties. We will use it to connect our schema to widely used concepts.\n",
    "\n",
    "\n",
    "---\n",
    "\n",
    "\n",
    "## **Step 2:** Defining Classes and Hierarchies\n",
    "We will start by defining our main concepts, i.e. classes."
   ]
  },
  {
   "cell_type": "code",
   "execution_count": 11,
   "metadata": {
    "colab": {
     "base_uri": "https://localhost:8080/"
    },
    "executionInfo": {
     "elapsed": 5,
     "status": "ok",
     "timestamp": 1756903762209,
     "user": {
      "displayName": "Ömer Durukan Kılıç",
      "userId": "04622295589848868615"
     },
     "user_tz": -120
    },
    "id": "TTQkhjBjzhNu",
    "outputId": "7c0672d4-b7ae-496f-ffed-7ea8d8fdcc65"
   },
   "outputs": [
    {
     "name": "stdout",
     "output_type": "stream",
     "text": [
      "@prefix lotr: <http://example.org/lotr/> .\n",
      "@prefix rdfs: <http://www.w3.org/2000/01/rdf-schema#> .\n",
      "\n",
      "lotr:Artifact a rdfs:Class .\n",
      "\n",
      "lotr:Character a rdfs:Class .\n",
      "\n",
      "\n"
     ]
    }
   ],
   "source": [
    "g.add((LOTR.Character, RDF.type, RDFS.Class))\n",
    "g.add((LOTR.Artifact, RDF.type, RDFS.Class))\n",
    "\n",
    "print(g.serialize(format=\"ttl\"))"
   ]
  },
  {
   "cell_type": "markdown",
   "metadata": {
    "id": "xCtw8hTQ1A9P"
   },
   "source": [
    "See that ```RDF.type``` ([http://www.w3.org/1999/02/22-rdf-syntax-ns#type](http://www.w3.org/1999/02/22-rdf-syntax-ns#type)) predicate is printed as \"a\" automatically. This is a shorthand that increases readability since this is a widely used property while building schemas.\n",
    "\n",
    "Following this, we can give our schema even more detail and structure by defining subclasses. We will use ```RDFS.subClassOf``` predicate.\n",
    "\n"
   ]
  },
  {
   "cell_type": "code",
   "execution_count": 12,
   "metadata": {
    "colab": {
     "base_uri": "https://localhost:8080/"
    },
    "executionInfo": {
     "elapsed": 45,
     "status": "ok",
     "timestamp": 1756904066713,
     "user": {
      "displayName": "Ömer Durukan Kılıç",
      "userId": "04622295589848868615"
     },
     "user_tz": -120
    },
    "id": "mk4nlON72Rwn",
    "outputId": "dbdc3075-1079-4eab-8874-5cbf216829e2"
   },
   "outputs": [
    {
     "name": "stdout",
     "output_type": "stream",
     "text": [
      "@prefix lotr: <http://example.org/lotr/> .\n",
      "@prefix rdfs: <http://www.w3.org/2000/01/rdf-schema#> .\n",
      "@prefix schema: <https://schema.org/> .\n",
      "\n",
      "lotr:Artifact a rdfs:Class .\n",
      "\n",
      "lotr:Character a rdfs:Class ;\n",
      "    rdfs:subClassOf schema:Person .\n",
      "\n",
      "lotr:DarkLord rdfs:subClassOf lotr:Character .\n",
      "\n",
      "lotr:Hobbit rdfs:subClassOf lotr:Character .\n",
      "\n",
      "lotr:Wizard rdfs:subClassOf lotr:Character .\n",
      "\n",
      "\n"
     ]
    }
   ],
   "source": [
    "g.add((LOTR.Hobbit, RDFS.subClassOf, LOTR.Character))\n",
    "g.add((LOTR.Wizard, RDFS.subClassOf, LOTR.Character))\n",
    "g.add((LOTR.DarkLord, RDFS.subClassOf, LOTR.Character))\n",
    "\n",
    "g.add((LOTR.Character, RDFS.subClassOf, SDO.Person)) # linked to an external vocabulary\n",
    "\n",
    "print(g.serialize(format=\"ttl\"))"
   ]
  },
  {
   "cell_type": "markdown",
   "metadata": {
    "id": "RFZSOY_v3KUq"
   },
   "source": [
    " Linking our schema to a public one like [Schema.org](https://schema.org/) is a highly recommended practice in Linked Data. It means any other system that understands ```schema:Person``` will now have a clue what our ```lotr:Character``` is. This prevents our data from being isolated, increasing interoperability.\n",
    "\n",
    "#### Why Define Classes and Subclasses?\n",
    "*   **Creating Structure:** Defining classes and subclasses makes our model a faithful representation of the domain's structure.\n",
    "*   **Enable Reasoning:** The hierarchy is not just for organization. An RDF reasoner can use the ```rdfs:subClassOf``` relationship to make inferences. For example, if we state that Frodo is a Hobbit, a reasoner will automatically understand he is also a Character. This concept of inheritance means any property that applies to a Character (like hasAge) will also apply to a Hobbit without us needing to state it explicitly.\n",
    "\n",
    "\n",
    "---\n",
    "\n",
    "\n",
    "### **Step 3:** Defining Properties\n",
    "Now we define the properties from our instance graph at the schema level by giving them a ```rdfs:domain``` and ```rdfs:range```. There are two types of properties we can define: Datatype Properties and Object Properties. The former asserts a literal for the object, and the latter an IRI.\n",
    "\n",
    "Adding datatype properties:"
   ]
  },
  {
   "cell_type": "code",
   "execution_count": 13,
   "metadata": {
    "colab": {
     "base_uri": "https://localhost:8080/"
    },
    "executionInfo": {
     "elapsed": 10,
     "status": "ok",
     "timestamp": 1756904343563,
     "user": {
      "displayName": "Ömer Durukan Kılıç",
      "userId": "04622295589848868615"
     },
     "user_tz": -120
    },
    "id": "REr-D8X13-c4",
    "outputId": "25595f41-701d-496c-d18d-44999ef5fd70"
   },
   "outputs": [
    {
     "name": "stdout",
     "output_type": "stream",
     "text": [
      "@prefix lotr: <http://example.org/lotr/> .\n",
      "@prefix rdf: <http://www.w3.org/1999/02/22-rdf-syntax-ns#> .\n",
      "@prefix rdfs: <http://www.w3.org/2000/01/rdf-schema#> .\n",
      "@prefix schema: <https://schema.org/> .\n",
      "@prefix xsd: <http://www.w3.org/2001/XMLSchema#> .\n",
      "\n",
      "lotr:Artifact a rdfs:Class .\n",
      "\n",
      "lotr:Character a rdfs:Class ;\n",
      "    rdfs:subClassOf schema:Person .\n",
      "\n",
      "lotr:DarkLord rdfs:subClassOf lotr:Character .\n",
      "\n",
      "lotr:Hobbit rdfs:subClassOf lotr:Character .\n",
      "\n",
      "lotr:Wizard rdfs:subClassOf lotr:Character .\n",
      "\n",
      "lotr:hasAge a rdf:Property ;\n",
      "    rdfs:domain lotr:Character ;\n",
      "    rdfs:range xsd:integer .\n",
      "\n",
      "lotr:hasDestructionDate a rdf:Property ;\n",
      "    rdfs:domain lotr:Artifact ;\n",
      "    rdfs:range xsd:dateTime .\n",
      "\n",
      "\n"
     ]
    }
   ],
   "source": [
    "# Define lotr:hasAge\n",
    "g.add((LOTR.hasAge, RDF.type, RDF.Property))\n",
    "g.add((LOTR.hasAge, RDFS.domain, LOTR.Character)) # subject is a Character class\n",
    "g.add((LOTR.hasAge, RDFS.range, XSD.integer)) # object is an integer literal\n",
    "\n",
    "# Define lotr:hasDestructionDate\n",
    "g.add((LOTR.hasDestructionDate, RDF.type, RDF.Property))\n",
    "g.add((LOTR.hasDestructionDate, RDFS.domain, LOTR.Artifact)) # subject is an Artifact class\n",
    "g.add((LOTR.hasDestructionDate, RDFS.range, XSD.dateTime)) # object is a datetime literal\n",
    "\n",
    "print(g.serialize(format=\"ttl\"))"
   ]
  },
  {
   "cell_type": "markdown",
   "metadata": {
    "id": "KLyNJWBw8OSJ"
   },
   "source": [
    "Adding object properties:"
   ]
  },
  {
   "cell_type": "code",
   "execution_count": 14,
   "metadata": {
    "colab": {
     "base_uri": "https://localhost:8080/"
    },
    "executionInfo": {
     "elapsed": 51,
     "status": "ok",
     "timestamp": 1756904385528,
     "user": {
      "displayName": "Ömer Durukan Kılıç",
      "userId": "04622295589848868615"
     },
     "user_tz": -120
    },
    "id": "T6EU8ukr8Sad",
    "outputId": "ea7fa27f-664f-4e9e-d77f-f99ee3b174ef"
   },
   "outputs": [
    {
     "name": "stdout",
     "output_type": "stream",
     "text": [
      "@prefix lotr: <http://example.org/lotr/> .\n",
      "@prefix rdf: <http://www.w3.org/1999/02/22-rdf-syntax-ns#> .\n",
      "@prefix rdfs: <http://www.w3.org/2000/01/rdf-schema#> .\n",
      "@prefix schema: <https://schema.org/> .\n",
      "@prefix xsd: <http://www.w3.org/2001/XMLSchema#> .\n",
      "\n",
      "lotr:Artifact a rdfs:Class .\n",
      "\n",
      "lotr:Character a rdfs:Class ;\n",
      "    rdfs:subClassOf schema:Person .\n",
      "\n",
      "lotr:DarkLord rdfs:subClassOf lotr:Character .\n",
      "\n",
      "lotr:Hobbit rdfs:subClassOf lotr:Character .\n",
      "\n",
      "lotr:Wizard rdfs:subClassOf lotr:Character .\n",
      "\n",
      "lotr:hasAge a rdf:Property ;\n",
      "    rdfs:domain lotr:Character ;\n",
      "    rdfs:range xsd:integer .\n",
      "\n",
      "lotr:hasDestructionDate a rdf:Property ;\n",
      "    rdfs:domain lotr:Artifact ;\n",
      "    rdfs:range xsd:dateTime .\n",
      "\n",
      "lotr:hasFriend a rdf:Property ;\n",
      "    rdfs:domain lotr:Character ;\n",
      "    rdfs:range lotr:Character .\n",
      "\n",
      "lotr:isBearerOf a rdf:Property ;\n",
      "    rdfs:domain lotr:Character ;\n",
      "    rdfs:range lotr:Artifact .\n",
      "\n",
      "\n"
     ]
    }
   ],
   "source": [
    "# Define lotr:hasFriend\n",
    "g.add((LOTR.hasFriend, RDF.type, RDF.Property))\n",
    "g.add((LOTR.hasFriend, RDFS.domain, LOTR.Character)) # subject is a Character class\n",
    "g.add((LOTR.hasFriend, RDFS.range, LOTR.Character)) # object is a Character class\n",
    "\n",
    "# Define lotr:isBearerOf\n",
    "g.add((LOTR.isBearerOf, RDF.type, RDF.Property))\n",
    "g.add((LOTR.isBearerOf, RDFS.domain, LOTR.Character)) # subject is a Character class\n",
    "g.add((LOTR.isBearerOf, RDFS.range, LOTR.Artifact)) # object is an Artifact class\n",
    "\n",
    "print(g.serialize(format=\"ttl\"))"
   ]
  },
  {
   "cell_type": "markdown",
   "metadata": {
    "id": "F682Qqbr9OFP"
   },
   "source": [
    " #### Why Define Properties?\n",
    "* **Data Consistency:** Defining domains and ranges creates limits our data. It ensures that only ```Character```s can have a ```hasAge```, and the value must be an integer. This prevents illogical statements, and improves the quality.\n",
    "* **Enable Validation:** Allows tools to validate instance data. If someone tries to add a triple that violates these rules, it can be automatically flagged as an error.\n",
    "* **Richer Inferences:** A reasoner can use these rules to infer new information. For instance, if a reasoner sees the triple <code>&lt;lotr:Gandalf&gt; &lt;lotr:hasAge&gt; 9000</code>, and it knows from the schema that the domain of ```hasAge``` is ```lotr:Character```; it can infer that ```lotr:Gandalf``` is an instance of the ```lotr:Character``` class even if that wasn't stated directly.\n",
    "\n",
    "\n",
    "---\n",
    "\n",
    "\n",
    "### **Step 4:** Exporting the Schema\n",
    "Now that we have a small but fully-realized schema, we can save it as a ```TURTLE``` (.ttl) file."
   ]
  },
  {
   "cell_type": "code",
   "execution_count": 15,
   "metadata": {
    "colab": {
     "base_uri": "https://localhost:8080/"
    },
    "executionInfo": {
     "elapsed": 50,
     "status": "ok",
     "timestamp": 1756904485287,
     "user": {
      "displayName": "Ömer Durukan Kılıç",
      "userId": "04622295589848868615"
     },
     "user_tz": -120
    },
    "id": "t7c1R2qbAICL",
    "outputId": "0017628c-0311-491c-86a6-bda00a00781b"
   },
   "outputs": [
    {
     "data": {
      "text/plain": [
       "<Graph identifier=Na1d23630627949ecb2cbf3857e0ebb1f (<class 'rdflib.graph.Graph'>)>"
      ]
     },
     "execution_count": 15,
     "metadata": {},
     "output_type": "execute_result"
    }
   ],
   "source": [
    "g.serialize(destination=\"lotr_schema.ttl\", format=\"ttl\")"
   ]
  },
  {
   "cell_type": "markdown",
   "metadata": {
    "id": "5zx9fEcBBkbp"
   },
   "source": [
    "This file can be exported the ontology editor Protégé. Check the different tabs to explore our schema, visualize it to get a higher understanding of what we have constructed today.\n",
    "\n",
    "\n",
    "---\n",
    "\n",
    "\n",
    "## **Exercise 1:** Protégé for Visualization\n",
    "\n",
    "1.   Download ```lotr_schema.ttl``` from the files tab of this on the left sidebar (or find it under the same folder as this notebook if you are running locally).\n",
    "2.   Upload it to the Protégé application and explore the schema.\n",
    "3.   Enable the tab under the Window -> Tabs -> OntoGraf. Expand all the entities to see the visual representation of our schema.\n",
    "4.   [OPTIONAL] Export it to PNG.\n",
    "\n",
    "\n",
    "---\n",
    "\n",
    "\n",
    "## **Exercise 2:** Reverse Engineering\n",
    "\n",
    "1.   Study the screenshot of a schema's OntoGraf visualization below. \\\n",
    "![Visual Graph](./visual_graph.png)\n",
    "2.   Rebuild it with ```rdflib``` to practice what we have learned.\n",
    "3.   Serialize the final graph and load it onto Protégé to validate your work.\n",
    "\n",
    "### Answer:"
   ]
  },
  {
   "cell_type": "code",
   "execution_count": 16,
   "metadata": {
    "id": "LPfwNxxNDVDX"
   },
   "outputs": [
    {
     "name": "stdout",
     "output_type": "stream",
     "text": [
      "@prefix rdfs: <http://www.w3.org/2000/01/rdf-schema#> .\n",
      "@prefix uni: <http://example.org/uni/> .\n",
      "\n",
      "uni:Person a rdfs:Class .\n",
      "\n",
      "uni:Professor a rdfs:Class .\n",
      "\n",
      "uni:Student a rdfs:Class .\n",
      "\n",
      "\n"
     ]
    }
   ],
   "source": [
    "g = Graph()\n",
    "\n",
    "UNI = Namespace(\"http://example.org/uni/\")\n",
    "\n",
    "g.bind(\"uni\", UNI)\n",
    "g.bind(\"rdfs\", RDFS)\n",
    "g.bind(\"xsd\", XSD)\n",
    "g.bind(\"schema\", SDO)\n",
    "\n",
    "g.add((UNI.Person, RDF.type, RDFS.Class))\n",
    "g.add((UNI.Professor, RDF.type, RDFS.Class))\n",
    "g.add((UNI.Student, RDF.type, RDFS.Class))\n",
    "print(g.serialize(format=\"ttl\"))"
   ]
  },
  {
   "cell_type": "code",
   "execution_count": 18,
   "metadata": {},
   "outputs": [
    {
     "name": "stdout",
     "output_type": "stream",
     "text": [
      "@prefix rdfs: <http://www.w3.org/2000/01/rdf-schema#> .\n",
      "@prefix uni: <http://example.org/uni/> .\n",
      "\n",
      "uni:Person a rdfs:Class .\n",
      "\n",
      "uni:Professor a rdfs:Class ;\n",
      "    rdfs:subClassOf uni:Person .\n",
      "\n",
      "uni:Student a rdfs:Class ;\n",
      "    rdfs:subClassOf uni:Person .\n",
      "\n",
      "\n"
     ]
    }
   ],
   "source": [
    "g.add((UNI.Professor, RDFS.subClassOf, UNI.Person))\n",
    "g.add((UNI.Student, RDFS.subClassOf, UNI.Person))\n",
    "print(g.serialize(format=\"ttl\"))"
   ]
  },
  {
   "cell_type": "code",
   "execution_count": 21,
   "metadata": {},
   "outputs": [
    {
     "name": "stdout",
     "output_type": "stream",
     "text": [
      "@prefix rdf: <http://www.w3.org/1999/02/22-rdf-syntax-ns#> .\n",
      "@prefix rdfs: <http://www.w3.org/2000/01/rdf-schema#> .\n",
      "@prefix uni: <http://example.org/uni/> .\n",
      "\n",
      "uni:Person a rdfs:Class .\n",
      "\n",
      "uni:Professor a rdfs:Class ;\n",
      "    rdfs:subClassOf uni:Person .\n",
      "\n",
      "uni:Student a rdfs:Class ;\n",
      "    rdfs:subClassOf uni:Person .\n",
      "\n",
      "<http://example.org/lotr/advises> rdfs:range uni:Student .\n",
      "\n",
      "uni:advises a rdf:Property ;\n",
      "    rdfs:domain uni:Professor ;\n",
      "    rdfs:range uni:Student .\n",
      "\n",
      "\n"
     ]
    }
   ],
   "source": [
    "g.add((UNI.advises, RDF.type, RDF.Property))\n",
    "g.add((UNI.advises, RDFS.domain, UNI.Professor)) # subject is an Artifact class\n",
    "g.add((UNI.advises, RDFS.range, UNI.Student))\n",
    "print(g.serialize(format=\"ttl\"))"
   ]
  },
  {
   "cell_type": "code",
   "execution_count": 22,
   "metadata": {},
   "outputs": [
    {
     "name": "stdout",
     "output_type": "stream",
     "text": [
      "@prefix rdf: <http://www.w3.org/1999/02/22-rdf-syntax-ns#> .\n",
      "@prefix rdfs: <http://www.w3.org/2000/01/rdf-schema#> .\n",
      "@prefix uni: <http://example.org/uni/> .\n",
      "@prefix xsd: <http://www.w3.org/2001/XMLSchema#> .\n",
      "\n",
      "uni:Person a rdfs:Class .\n",
      "\n",
      "uni:Professor a rdfs:Class ;\n",
      "    rdfs:subClassOf uni:Person .\n",
      "\n",
      "uni:Student a rdfs:Class ;\n",
      "    rdfs:subClassOf uni:Person .\n",
      "\n",
      "<http://example.org/lotr/advises> rdfs:range uni:Student .\n",
      "\n",
      "uni:advises a rdf:Property ;\n",
      "    rdfs:domain uni:Professor ;\n",
      "    rdfs:range uni:Student .\n",
      "\n",
      "uni:hasName a rdf:Property ;\n",
      "    rdfs:domain xsd:string ;\n",
      "    rdfs:range xsd:string .\n",
      "\n",
      "\n"
     ]
    }
   ],
   "source": [
    "g.add((UNI.hasName, RDF.type, RDF.Property))\n",
    "g.add((UNI.hasName, RDFS.domain, XSD.Person)) # subject is an Artifact class\n",
    "g.add((UNI.hasName, RDFS.range, XSD.string))\n",
    "print(g.serialize(format=\"ttl\"))"
   ]
  },
  {
   "cell_type": "code",
   "execution_count": 23,
   "metadata": {},
   "outputs": [
    {
     "data": {
      "text/plain": [
       "<Graph identifier=Nfc7fab99e5cf4ea4aba0c2a7ac0011f9 (<class 'rdflib.graph.Graph'>)>"
      ]
     },
     "execution_count": 23,
     "metadata": {},
     "output_type": "execute_result"
    }
   ],
   "source": [
    "g.serialize(destination=\"uni_schema.ttl\", format=\"ttl\")"
   ]
  },
  {
   "cell_type": "code",
   "execution_count": 24,
   "metadata": {},
   "outputs": [
    {
     "data": {
      "text/plain": [
       "<Graph identifier=Nfc7fab99e5cf4ea4aba0c2a7ac0011f9 (<class 'rdflib.graph.Graph'>)>"
      ]
     },
     "execution_count": 24,
     "metadata": {},
     "output_type": "execute_result"
    }
   ],
   "source": [
    "g.serialize(destination=\"uni_schema.trig\", format=\"trig\")\n"
   ]
  }
 ],
 "metadata": {
  "colab": {
   "provenance": []
  },
  "kernelspec": {
   "display_name": "Python 3",
   "name": "python3"
  },
  "language_info": {
   "codemirror_mode": {
    "name": "ipython",
    "version": 3
   },
   "file_extension": ".py",
   "mimetype": "text/x-python",
   "name": "python",
   "nbconvert_exporter": "python",
   "pygments_lexer": "ipython3",
   "version": "3.9.13"
  }
 },
 "nbformat": 4,
 "nbformat_minor": 0
}
