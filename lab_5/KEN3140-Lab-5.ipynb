{
 "cells": [
  {
   "cell_type": "markdown",
   "id": "3ba40874-a828-476a-bcc8-9c76bacfc5c4",
   "metadata": {},
   "source": [
    "# KEN3140 - Lab 5\n",
    "## Advanced OWL \n",
    "- Install Protege (if not already done) - https://protege.stanford.edu/software.php"
   ]
  },
  {
   "cell_type": "markdown",
   "id": "16d16c01-26a5-4610-b09e-2a0de647c78c",
   "metadata": {},
   "source": [
    "### Task 1: Create Named Classes\n",
    "- Create named classes `Pizza`, `PizzaTopping`, and `PizzaBase` (UpperCamelCase, no spaces).  \n",
    "- Then select **PizzaBase** and add as subclasses:  \n",
    "`ItalianBase`, `ThinAndCrispyBase`, `PanBase`."
   ]
  },
  {
   "cell_type": "markdown",
   "id": "69b99a4b-2a97-46b7-992b-934ad8892266",
   "metadata": {},
   "source": [
    "### Task 2: Add Topping hierarchy with 'Create class hierarchy'\n",
    "Select **PizzaTopping**, open **Tools → Create class hierarchy…**, paste the list below as is (tabs indicate levels), keep “Create disjoint siblings” checked:"
   ]
  },
  {
   "cell_type": "code",
   "execution_count": null,
   "id": "32adb412-1d7a-4335-b2a6-62cc1f1efb17",
   "metadata": {},
   "outputs": [],
   "source": [
    "TOPPINGS = \"\"\"\n",
    "CheeseTopping \n",
    "\tMozzarellaTopping\n",
    "\tParmesanTopping\n",
    "\tGorgonzolaTopping\n",
    "MeatTopping\n",
    "    HamTopping\n",
    "    PepperoniTopping\n",
    "    SalamiTopping\n",
    "    ProsciuttoTopping\n",
    "FishTopping\n",
    "\tAnchovyTopping\n",
    "\tTunaTopping\n",
    "\tPrawnTopping\n",
    "VegetableTopping\n",
    "\tMushroomTopping\n",
    "\tOnionTopping\n",
    "\tOliveTopping\n",
    "\tPepperTopping\n",
    "\t\tJalapenoPepperTopping\n",
    "\t\tHotGreenPepperTopping\n",
    "\t\tSweetPepperTopping\n",
    "\tTomatoTopping\n",
    "\tArtichokeTopping\n",
    "\tSpinachTopping\n",
    "\tGarlicTopping\n",
    "FruitTopping\n",
    "\tPineappleTopping\n",
    "HerbSpiceTopping\n",
    "\tBasilTopping\n",
    "\tOreganoTopping\n",
    "\tChilliFlakesTopping\n",
    "SauceTopping\n",
    "\tTomatoSauceTopping\n",
    "\tPestoSauceTopping\n",
    "\tBarbecueSauceTopping\n",
    "\"\"\"\n"
   ]
  },
  {
   "cell_type": "markdown",
   "id": "8d48fe64-06da-4cc2-88a2-c555322ddd5b",
   "metadata": {},
   "source": [
    "### Task 3: Object properties (ingredients + inverses)\n",
    "\n",
    "1. **Entities → Object properties** → select `owl:topObjectProperty` → add sub-property: `hasIngredient`.\n",
    "2. With **`hasIngredient`** selected: **Tools → Create object property hierarchy…** → paste:\n",
    "   hasTopping  \n",
    "   hasBase\n",
    "3. Under **`owl:topObjectProperty`** add: `isIngredientOf`.\n",
    "4. With **`isIngredientOf`** selected: **Tools → Create object property hierarchy…** → paste:\n",
    "   isToppingOf  \n",
    "   isBaseOf\n",
    "5. Set inverses:\n",
    "   - `hasIngredient` ↔ `isIngredientOf`  \n",
    "   - `hasTopping` ↔ `isToppingOf`  \n",
    "   - `hasBase` ↔ `isBaseOf`\n"
   ]
  },
  {
   "cell_type": "markdown",
   "id": "6167c457-74ea-4cc8-bb45-5908ec28d6a5",
   "metadata": {},
   "source": [
    "### Task 4: Domains & ranges (+ a common gotcha)\n",
    "1. Select `hasIngredient` → add **two** ranges: `PizzaTopping` **and** `PizzaBase`.\n",
    "2. Run the reasoner and inspect. Consider that `PizzaTopping` **and** `PizzaBase` are disjoint.\n",
    "\n",
    "Correct domains/ranges\n",
    "1. Select `hasTopping` → add **Domain:** `Pizza`, **Range:** `PizzaTopping`.\n",
    "2. Select `hasBase` → add **Domain:** `Pizza`, **Range:** `PizzaBase`.\n",
    "3. Run the reasoner."
   ]
  },
  {
   "cell_type": "markdown",
   "id": "1912e232-31be-4674-b692-c5413663b26a",
   "metadata": {},
   "source": [
    "## Describe and define classes with restrictions \n",
    "\n",
    "### Task 5: Quantifier restrictions → Existential restrictions\n",
    "#### 5A — Require a base for every Pizza (primitive, necessary condition i.e. goes under subclass of)\n",
    "- select `Pizza` → `SubClass Of` → **Add** → class expression. \n",
    "\n",
    "```manchester\n",
    "Class: Pizza\n",
    "  SubClassOf: hasBase some PizzaBase\n",
    "\n"
   ]
  },
  {
   "cell_type": "markdown",
   "id": "fc327337-8ddb-4d19-a015-4fcdb3c9a16b",
   "metadata": {},
   "source": [
    "#### 5B - Another primitive, necessary condition i.e. goes under subclass of\n",
    "- Create `NamedPizza` as a subclass of `Pizza`. Create `MargheritaPizza` as a subclass of `NamedPizza`.   \n",
    "- Require `MargheritaPizza` to have **at least one** `MozzarellaTopping` and **at least one** `TomatoTopping`"
   ]
  },
  {
   "cell_type": "markdown",
   "id": "3a7e9834-acd8-49c2-a38b-0183dbc54146",
   "metadata": {},
   "source": [
    "#### 5C — Duplicate `MargheritaPizza` and extend with another existential to create `AmericanaPizza`\n",
    "- Define **AmericanaPizza** as everything that satisfies **MargheritaPizza**’s conditions **and** additionally has **at least one** **PepperoniTopping** via **hasTopping**."
   ]
  },
  {
   "cell_type": "markdown",
   "id": "e5a4aad9-6a88-41cb-8de2-7f8faa042cbb",
   "metadata": {},
   "source": [
    "### Task 6: Create a Defined class with necessary and sufficient axioms (i.e. goes under equivalent to)\n",
    "- Create a class `CheesyPizza` under `Pizza`\n",
    "- Define it as a pizza that has at least one cheese topping. You can do this directly under \"equivalent to\" or under \"subclass of\" with additional step of `Edit > Convert to Defined class`. \n",
    "- Run the reasoner. See inferences for Margherita and Americana pizzas. "
   ]
  },
  {
   "cell_type": "markdown",
   "id": "46455538-eb8c-4ef3-91e8-15201235480e",
   "metadata": {},
   "source": [
    "### Task 7: Quantifier restrictions → Universal restrictions\n",
    "- Create a class `VegetarianPizza` under `Pizza`\n",
    "- Define it as a pizza that can only have either vegetable or cheese toppings.\n",
    "- Run the reasoner. Check inferences for Margherita Pizza. **Did it change? If not, why not? Consider Open World Assumption in OWL.**"
   ]
  },
  {
   "cell_type": "markdown",
   "id": "7c8117b1-0e5a-49c4-b21f-22628501b20c",
   "metadata": {},
   "source": [
    "### Task 8: Add a Closure Axiom on the `hasTopping` for `MargheritaPizza`\n",
    "- Add DL axiom `hasTopping only (MozzarellaTopping or TomatoTopping)` to sub class of `MargheritaPizza`\n",
    "- run reasoner. Now see the inference again. "
   ]
  },
  {
   "cell_type": "markdown",
   "id": "d971ca5e-d1aa-4218-a877-e56539733f29",
   "metadata": {},
   "source": [
    "### Task 9: Cardinality Restrictions: \n",
    "- Create a class `PremiumPizza` under `Pizza`\n",
    "- Define it as a pizza that has at least 3 toppings.\n",
    "- Run the reasoner. Check inferences for Americana Pizza."
   ]
  },
  {
   "cell_type": "markdown",
   "id": "56216201-4da0-4165-bd0e-1bdb0cfbc457",
   "metadata": {},
   "source": [
    "### Task 10: Define a data property\n",
    "- Go to the Data properties tab. Select owl:topDataProperty.\n",
    "- create a property `hasCaloricContent`\n",
    "- set the domain as `Pizza` and range as `xsd:integer`\n",
    "- set it as a `Functional` property"
   ]
  },
  {
   "cell_type": "markdown",
   "id": "2f03a3db-025d-4f9e-856a-d59f24557ea2",
   "metadata": {},
   "source": [
    "### Task 11: Create a DataType restriction\n",
    "- create a class `LowCaloriePizza` under `Pizza`\n",
    "- now go to the \"Individuals by class\" tab, and create an individual `MG1` as an instance of `MargheritaPizza`.\n",
    "- assert a dataproperty value for the property `hasCaloricContent` for `MG1`. Set it to 800.\n",
    "- define a `LowCaloriePizza` as a pizza with less than 1000 calories.\n",
    "- run the reasoner and check inference for `MG1` which should now be an instance of a `LowCaloriePizza`. "
   ]
  },
  {
   "cell_type": "markdown",
   "id": "7bd1e9eb-df55-472a-b5a4-b7f414f34b92",
   "metadata": {},
   "source": [
    "### Task 12 : Create an enumerated class, impose property restrictions with it.  \n",
    "- create a class `SpiceLevel`. Also create 3 instances as `Hot`, `Medium`, `Low`\n",
    "- define `SpiceLevel` as `{Hot, Medium, Low}`\n",
    "- define a new object property `hasSpiceLevel` with domain `PizzaTopping` and range `SpiceLevel`\n",
    "- duplicate `AmericanaPizza` to create `AmericanaHotPizza` by adding another property restriction as it contaning atleast 1 `JalapenoPepperTopping`.\n",
    "- under `Pizza` create a subclass `SpicyPizza`\n",
    "- define a `SpicyPizza` as one with atleast 1 topping with `hasSpiceLevel` as `Hot`.\n",
    "- for `JalapenoPepperTopping` set subclass of `hasSpiceLevel value Hot`.\n",
    "- run the reasoner.\n",
    "\n",
    "---"
   ]
  },
  {
   "cell_type": "markdown",
   "id": "0f6c77be-8ed0-4e1f-a94b-4dd3d8313c93",
   "metadata": {},
   "source": [
    "Based on \"A Practical Guide to Building OWL Ontologies Using Protégé 5.5 and Plugins\" Edition 3.2, 8 October 2021, by Michael DeBellis. Refer to the source for more information. "
   ]
  },
  {
   "cell_type": "code",
   "execution_count": null,
   "id": "1795a00b-1bae-41c0-a047-cf9845151cb2",
   "metadata": {},
   "outputs": [],
   "source": []
  }
 ],
 "metadata": {
  "kernelspec": {
   "display_name": "Python 3 (ipykernel)",
   "language": "python",
   "name": "python3"
  },
  "language_info": {
   "codemirror_mode": {
    "name": "ipython",
    "version": 3
   },
   "file_extension": ".py",
   "mimetype": "text/x-python",
   "name": "python",
   "nbconvert_exporter": "python",
   "pygments_lexer": "ipython3",
   "version": "3.9.23"
  }
 },
 "nbformat": 4,
 "nbformat_minor": 5
}
